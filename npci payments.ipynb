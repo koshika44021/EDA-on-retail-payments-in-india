{
 "cells": [
  {
   "cell_type": "markdown",
   "id": "e6c022d4",
   "metadata": {},
   "source": [
    "RETAIL DIGITAL PAYMENTS IN INDIA UNDER NPCI PLATFORM"
   ]
  },
  {
   "cell_type": "markdown",
   "id": "5f15f43c",
   "metadata": {},
   "source": [
    "The main objective of this project is to understand the evolution of retail digital \n",
    "payment system in India especially the UPI platform which is an innovative \n",
    "digital payment method. "
   ]
  },
  {
   "cell_type": "code",
   "execution_count": 1,
   "id": "cbbed9a4",
   "metadata": {
    "execution": {
     "iopub.execute_input": "2022-12-27T09:17:41.809546Z",
     "iopub.status.busy": "2022-12-27T09:17:41.806735Z",
     "iopub.status.idle": "2022-12-27T09:17:43.101336Z",
     "shell.execute_reply": "2022-12-27T09:17:43.101875Z"
    },
    "papermill": {
     "duration": 1.349104,
     "end_time": "2022-12-27T09:17:43.102153",
     "exception": false,
     "start_time": "2022-12-27T09:17:41.753049",
     "status": "completed"
    },
    "tags": [],
    "vscode": {
     "languageId": "r"
    }
   },
   "outputs": [
    {
     "name": "stderr",
     "output_type": "stream",
     "text": [
      "── \u001b[1mAttaching packages\u001b[22m ─────────────────────────────────────── tidyverse 1.3.1 ──\n",
      "\n",
      "\u001b[32m✔\u001b[39m \u001b[34mggplot2\u001b[39m 3.3.5     \u001b[32m✔\u001b[39m \u001b[34mpurrr  \u001b[39m 0.3.4\n",
      "\u001b[32m✔\u001b[39m \u001b[34mtibble \u001b[39m 3.1.5     \u001b[32m✔\u001b[39m \u001b[34mdplyr  \u001b[39m 1.0.7\n",
      "\u001b[32m✔\u001b[39m \u001b[34mtidyr  \u001b[39m 1.1.4     \u001b[32m✔\u001b[39m \u001b[34mstringr\u001b[39m 1.4.0\n",
      "\u001b[32m✔\u001b[39m \u001b[34mreadr  \u001b[39m 2.0.2     \u001b[32m✔\u001b[39m \u001b[34mforcats\u001b[39m 0.5.1\n",
      "\n",
      "── \u001b[1mConflicts\u001b[22m ────────────────────────────────────────── tidyverse_conflicts() ──\n",
      "\u001b[31m✖\u001b[39m \u001b[34mdplyr\u001b[39m::\u001b[32mfilter()\u001b[39m masks \u001b[34mstats\u001b[39m::filter()\n",
      "\u001b[31m✖\u001b[39m \u001b[34mdplyr\u001b[39m::\u001b[32mlag()\u001b[39m    masks \u001b[34mstats\u001b[39m::lag()\n",
      "\n"
     ]
    },
    {
     "data": {
      "text/html": [
       "'retailpaymentsindia'"
      ],
      "text/latex": [
       "'retailpaymentsindia'"
      ],
      "text/markdown": [
       "'retailpaymentsindia'"
      ],
      "text/plain": [
       "[1] \"retailpaymentsindia\""
      ]
     },
     "metadata": {},
     "output_type": "display_data"
    }
   ],
   "source": [
    "library(tidyverse) \n",
    "library(ggplot2)\n",
    "library(ggthemes)\n"
   ]
  },
  {
   "cell_type": "code",
   "execution_count": 2,
   "id": "d4434ea0",
   "metadata": {
    "execution": {
     "iopub.execute_input": "2022-12-27T09:17:43.247766Z",
     "iopub.status.busy": "2022-12-27T09:17:43.215046Z",
     "iopub.status.idle": "2022-12-27T09:17:43.435392Z",
     "shell.execute_reply": "2022-12-27T09:17:43.432432Z"
    },
    "papermill": {
     "duration": 0.278178,
     "end_time": "2022-12-27T09:17:43.435574",
     "exception": false,
     "start_time": "2022-12-27T09:17:43.157396",
     "status": "completed"
    },
    "tags": [],
    "vscode": {
     "languageId": "r"
    }
   },
   "outputs": [
    {
     "data": {
      "text/html": [
       "<table class=\"dataframe\">\n",
       "<caption>A data.frame: 6 × 155</caption>\n",
       "<thead>\n",
       "\t<tr><th></th><th scope=col>NPCI.Operated.Systems</th><th scope=col>F.Y.2014.15</th><th scope=col>X</th><th scope=col>F.Y.2015.16</th><th scope=col>X.1</th><th scope=col>Apr.16</th><th scope=col>X.2</th><th scope=col>May.16</th><th scope=col>X.3</th><th scope=col>June.16</th><th scope=col>⋯</th><th scope=col>Sep.21</th><th scope=col>X.72</th><th scope=col>Oct.21</th><th scope=col>X.73</th><th scope=col>Nov.21</th><th scope=col>X.74</th><th scope=col>Dec.21</th><th scope=col>X.75</th><th scope=col>F.Y.2021.22</th><th scope=col>X.76</th></tr>\n",
       "\t<tr><th></th><th scope=col>&lt;chr&gt;</th><th scope=col>&lt;chr&gt;</th><th scope=col>&lt;chr&gt;</th><th scope=col>&lt;chr&gt;</th><th scope=col>&lt;chr&gt;</th><th scope=col>&lt;chr&gt;</th><th scope=col>&lt;chr&gt;</th><th scope=col>&lt;chr&gt;</th><th scope=col>&lt;chr&gt;</th><th scope=col>&lt;chr&gt;</th><th scope=col>⋯</th><th scope=col>&lt;chr&gt;</th><th scope=col>&lt;chr&gt;</th><th scope=col>&lt;chr&gt;</th><th scope=col>&lt;chr&gt;</th><th scope=col>&lt;chr&gt;</th><th scope=col>&lt;chr&gt;</th><th scope=col>&lt;chr&gt;</th><th scope=col>&lt;chr&gt;</th><th scope=col>&lt;chr&gt;</th><th scope=col>&lt;chr&gt;</th></tr>\n",
       "</thead>\n",
       "<tbody>\n",
       "\t<tr><th scope=row>1</th><td>Financial Txns:                              </td><td>Volume (in Mn)</td><td>Value (in Bn)</td><td>Volume (in Mn)</td><td>Value (in Bn)</td><td>Volume (in Mn)</td><td>Value (in Bn)</td><td>Volume (in Mn)</td><td>Value (in Bn)</td><td>Volume (in Mn)</td><td>⋯</td><td>Volume (in Mn)</td><td>Value (in Bn)</td><td>Volume (in Mn)</td><td>Value (in Bn)</td><td>Volume (in Mn)</td><td>Value (in Bn)</td><td>Volume (in Mn)</td><td>Value (in Bn)</td><td>Volume (in Mn)</td><td>Value (in Bn)</td></tr>\n",
       "\t<tr><th scope=row>2</th><td>NFS - National Financial Switch              </td><td> 2,374.30     </td><td> 8,311.67    </td><td> 2,837.01     </td><td> 9,993.22    </td><td> 260.33       </td><td> 954.10      </td><td> 265.68       </td><td> 955.18      </td><td> 260.99       </td><td>⋯</td><td> 319.84       </td><td> 1,294.47    </td><td> 350.88       </td><td> 1,464.72    </td><td> 332.84       </td><td> 1,392.28    </td><td> 341.16       </td><td> 1,407.79    </td><td> 2,826.80     </td><td> 11,746.80   </td></tr>\n",
       "\t<tr><th scope=row>3</th><td>NFS - ATM Cash Withdrawal *                  </td><td> 2,374.30     </td><td> 8,311.67    </td><td> 2,837.01     </td><td> 9,993.22    </td><td> 260.33       </td><td> 954.10      </td><td> 265.68       </td><td> 955.18      </td><td> 260.99       </td><td>⋯</td><td> 319.70       </td><td> 1,292.98    </td><td> 350.73       </td><td> 1,463.05    </td><td> 332.69       </td><td> 1,390.70    </td><td> 340.99       </td><td> 1,406.08    </td><td> 2,825.63     </td><td> 11,734.12   </td></tr>\n",
       "\t<tr><th scope=row>4</th><td>NFS - Cash deposit transactions              </td><td> -            </td><td> -           </td><td> -            </td><td> -           </td><td>              </td><td>             </td><td>              </td><td>             </td><td>              </td><td>⋯</td><td> 0.14         </td><td> 1.49        </td><td> 0.15         </td><td> 1.66        </td><td> 0.15         </td><td> 1.58        </td><td> 0.17         </td><td> 1.71        </td><td> 1.16         </td><td> 12.68       </td></tr>\n",
       "\t<tr><th scope=row>5</th><td>NACH- National Automated Clearing House      </td><td> 324.63       </td><td> 1,196.97    </td><td> 1,392.79     </td><td> 3,715.09    </td><td> 168.34       </td><td> 544.54      </td><td> 154.36       </td><td> 530.34      </td><td> 160.25       </td><td>⋯</td><td> 253.33       </td><td> 1,591.21    </td><td> 342.35       </td><td> 1,934.61    </td><td> 311.23       </td><td> 1,709.14    </td><td> 320.09       </td><td> 1,925.10    </td><td> 2,769.12     </td><td> 15,519.73   </td></tr>\n",
       "\t<tr><th scope=row>6</th><td>APBS Credit (Disbursement based on UIDAI No.)</td><td> 168.43       </td><td> 61.43       </td><td> 717.46       </td><td> 185.98      </td><td> 72.31        </td><td> 19.40       </td><td> 66.62        </td><td> 16.59       </td><td> 72.47        </td><td>⋯</td><td> 78.03        </td><td> 61.73       </td><td> 119.04       </td><td> 75.45       </td><td> 111.77       </td><td> 97.16       </td><td> 108.06       </td><td> 148.83      </td><td> 931.43       </td><td> 857.00      </td></tr>\n",
       "</tbody>\n",
       "</table>\n"
      ],
      "text/latex": [
       "A data.frame: 6 × 155\n",
       "\\begin{tabular}{r|lllllllllllllllllllll}\n",
       "  & NPCI.Operated.Systems & F.Y.2014.15 & X & F.Y.2015.16 & X.1 & Apr.16 & X.2 & May.16 & X.3 & June.16 & ⋯ & Sep.21 & X.72 & Oct.21 & X.73 & Nov.21 & X.74 & Dec.21 & X.75 & F.Y.2021.22 & X.76\\\\\n",
       "  & <chr> & <chr> & <chr> & <chr> & <chr> & <chr> & <chr> & <chr> & <chr> & <chr> & ⋯ & <chr> & <chr> & <chr> & <chr> & <chr> & <chr> & <chr> & <chr> & <chr> & <chr>\\\\\n",
       "\\hline\n",
       "\t1 & Financial Txns:                               & Volume (in Mn) & Value (in Bn) & Volume (in Mn) & Value (in Bn) & Volume (in Mn) & Value (in Bn) & Volume (in Mn) & Value (in Bn) & Volume (in Mn) & ⋯ & Volume (in Mn) & Value (in Bn) & Volume (in Mn) & Value (in Bn) & Volume (in Mn) & Value (in Bn) & Volume (in Mn) & Value (in Bn) & Volume (in Mn) & Value (in Bn)\\\\\n",
       "\t2 & NFS - National Financial Switch               &  2,374.30      &  8,311.67     &  2,837.01      &  9,993.22     &  260.33        &  954.10       &  265.68        &  955.18       &  260.99        & ⋯ &  319.84        &  1,294.47     &  350.88        &  1,464.72     &  332.84        &  1,392.28     &  341.16        &  1,407.79     &  2,826.80      &  11,746.80   \\\\\n",
       "\t3 & NFS - ATM Cash Withdrawal *                   &  2,374.30      &  8,311.67     &  2,837.01      &  9,993.22     &  260.33        &  954.10       &  265.68        &  955.18       &  260.99        & ⋯ &  319.70        &  1,292.98     &  350.73        &  1,463.05     &  332.69        &  1,390.70     &  340.99        &  1,406.08     &  2,825.63      &  11,734.12   \\\\\n",
       "\t4 & NFS - Cash deposit transactions               &  -             &  -            &  -             &  -            &                &               &                &               &                & ⋯ &  0.14          &  1.49         &  0.15          &  1.66         &  0.15          &  1.58         &  0.17          &  1.71         &  1.16          &  12.68       \\\\\n",
       "\t5 & NACH- National Automated Clearing House       &  324.63        &  1,196.97     &  1,392.79      &  3,715.09     &  168.34        &  544.54       &  154.36        &  530.34       &  160.25        & ⋯ &  253.33        &  1,591.21     &  342.35        &  1,934.61     &  311.23        &  1,709.14     &  320.09        &  1,925.10     &  2,769.12      &  15,519.73   \\\\\n",
       "\t6 & APBS Credit (Disbursement based on UIDAI No.) &  168.43        &  61.43        &  717.46        &  185.98       &  72.31         &  19.40        &  66.62         &  16.59        &  72.47         & ⋯ &  78.03         &  61.73        &  119.04        &  75.45        &  111.77        &  97.16        &  108.06        &  148.83       &  931.43        &  857.00      \\\\\n",
       "\\end{tabular}\n"
      ],
      "text/markdown": [
       "\n",
       "A data.frame: 6 × 155\n",
       "\n",
       "| <!--/--> | NPCI.Operated.Systems &lt;chr&gt; | F.Y.2014.15 &lt;chr&gt; | X &lt;chr&gt; | F.Y.2015.16 &lt;chr&gt; | X.1 &lt;chr&gt; | Apr.16 &lt;chr&gt; | X.2 &lt;chr&gt; | May.16 &lt;chr&gt; | X.3 &lt;chr&gt; | June.16 &lt;chr&gt; | ⋯ ⋯ | Sep.21 &lt;chr&gt; | X.72 &lt;chr&gt; | Oct.21 &lt;chr&gt; | X.73 &lt;chr&gt; | Nov.21 &lt;chr&gt; | X.74 &lt;chr&gt; | Dec.21 &lt;chr&gt; | X.75 &lt;chr&gt; | F.Y.2021.22 &lt;chr&gt; | X.76 &lt;chr&gt; |\n",
       "|---|---|---|---|---|---|---|---|---|---|---|---|---|---|---|---|---|---|---|---|---|---|\n",
       "| 1 | Financial Txns:                               | Volume (in Mn) | Value (in Bn) | Volume (in Mn) | Value (in Bn) | Volume (in Mn) | Value (in Bn) | Volume (in Mn) | Value (in Bn) | Volume (in Mn) | ⋯ | Volume (in Mn) | Value (in Bn) | Volume (in Mn) | Value (in Bn) | Volume (in Mn) | Value (in Bn) | Volume (in Mn) | Value (in Bn) | Volume (in Mn) | Value (in Bn) |\n",
       "| 2 | NFS - National Financial Switch               |  2,374.30      |  8,311.67     |  2,837.01      |  9,993.22     |  260.33        |  954.10       |  265.68        |  955.18       |  260.99        | ⋯ |  319.84        |  1,294.47     |  350.88        |  1,464.72     |  332.84        |  1,392.28     |  341.16        |  1,407.79     |  2,826.80      |  11,746.80    |\n",
       "| 3 | NFS - ATM Cash Withdrawal *                   |  2,374.30      |  8,311.67     |  2,837.01      |  9,993.22     |  260.33        |  954.10       |  265.68        |  955.18       |  260.99        | ⋯ |  319.70        |  1,292.98     |  350.73        |  1,463.05     |  332.69        |  1,390.70     |  340.99        |  1,406.08     |  2,825.63      |  11,734.12    |\n",
       "| 4 | NFS - Cash deposit transactions               |  -             |  -            |  -             |  -            | <!----> | <!----> | <!----> | <!----> | <!----> | ⋯ |  0.14          |  1.49         |  0.15          |  1.66         |  0.15          |  1.58         |  0.17          |  1.71         |  1.16          |  12.68        |\n",
       "| 5 | NACH- National Automated Clearing House       |  324.63        |  1,196.97     |  1,392.79      |  3,715.09     |  168.34        |  544.54       |  154.36        |  530.34       |  160.25        | ⋯ |  253.33        |  1,591.21     |  342.35        |  1,934.61     |  311.23        |  1,709.14     |  320.09        |  1,925.10     |  2,769.12      |  15,519.73    |\n",
       "| 6 | APBS Credit (Disbursement based on UIDAI No.) |  168.43        |  61.43        |  717.46        |  185.98       |  72.31         |  19.40        |  66.62         |  16.59        |  72.47         | ⋯ |  78.03         |  61.73        |  119.04        |  75.45        |  111.77        |  97.16        |  108.06        |  148.83       |  931.43        |  857.00       |\n",
       "\n"
      ],
      "text/plain": [
       "  NPCI.Operated.Systems                         F.Y.2014.15    X            \n",
       "1 Financial Txns:                               Volume (in Mn) Value (in Bn)\n",
       "2 NFS - National Financial Switch                2,374.30       8,311.67    \n",
       "3 NFS - ATM Cash Withdrawal *                    2,374.30       8,311.67    \n",
       "4 NFS - Cash deposit transactions                -              -           \n",
       "5 NACH- National Automated Clearing House        324.63         1,196.97    \n",
       "6 APBS Credit (Disbursement based on UIDAI No.)  168.43         61.43       \n",
       "  F.Y.2015.16    X.1           Apr.16         X.2           May.16        \n",
       "1 Volume (in Mn) Value (in Bn) Volume (in Mn) Value (in Bn) Volume (in Mn)\n",
       "2  2,837.01       9,993.22      260.33         954.10        265.68       \n",
       "3  2,837.01       9,993.22      260.33         954.10        265.68       \n",
       "4  -              -                                                       \n",
       "5  1,392.79       3,715.09      168.34         544.54        154.36       \n",
       "6  717.46         185.98        72.31          19.40         66.62        \n",
       "  X.3           June.16        ⋯ Sep.21         X.72          Oct.21        \n",
       "1 Value (in Bn) Volume (in Mn) ⋯ Volume (in Mn) Value (in Bn) Volume (in Mn)\n",
       "2  955.18        260.99        ⋯  319.84         1,294.47      350.88       \n",
       "3  955.18        260.99        ⋯  319.70         1,292.98      350.73       \n",
       "4                              ⋯  0.14           1.49          0.15         \n",
       "5  530.34        160.25        ⋯  253.33         1,591.21      342.35       \n",
       "6  16.59         72.47         ⋯  78.03          61.73         119.04       \n",
       "  X.73          Nov.21         X.74          Dec.21         X.75         \n",
       "1 Value (in Bn) Volume (in Mn) Value (in Bn) Volume (in Mn) Value (in Bn)\n",
       "2  1,464.72      332.84         1,392.28      341.16         1,407.79    \n",
       "3  1,463.05      332.69         1,390.70      340.99         1,406.08    \n",
       "4  1.66          0.15           1.58          0.17           1.71        \n",
       "5  1,934.61      311.23         1,709.14      320.09         1,925.10    \n",
       "6  75.45         111.77         97.16         108.06         148.83      \n",
       "  F.Y.2021.22    X.76         \n",
       "1 Volume (in Mn) Value (in Bn)\n",
       "2  2,826.80       11,746.80   \n",
       "3  2,825.63       11,734.12   \n",
       "4  1.16           12.68       \n",
       "5  2,769.12       15,519.73   \n",
       "6  931.43         857.00      "
      ]
     },
     "metadata": {},
     "output_type": "display_data"
    },
    {
     "data": {
      "text/html": [
       "<table class=\"dataframe\">\n",
       "<caption>A data.frame: 6 × 155</caption>\n",
       "<thead>\n",
       "\t<tr><th></th><th scope=col>NPCI.Operated.Systems</th><th scope=col>F.Y.2014.15</th><th scope=col>X</th><th scope=col>F.Y.2015.16</th><th scope=col>X.1</th><th scope=col>Apr.16</th><th scope=col>X.2</th><th scope=col>May.16</th><th scope=col>X.3</th><th scope=col>June.16</th><th scope=col>⋯</th><th scope=col>Sep.21</th><th scope=col>X.72</th><th scope=col>Oct.21</th><th scope=col>X.73</th><th scope=col>Nov.21</th><th scope=col>X.74</th><th scope=col>Dec.21</th><th scope=col>X.75</th><th scope=col>F.Y.2021.22</th><th scope=col>X.76</th></tr>\n",
       "\t<tr><th></th><th scope=col>&lt;chr&gt;</th><th scope=col>&lt;chr&gt;</th><th scope=col>&lt;chr&gt;</th><th scope=col>&lt;chr&gt;</th><th scope=col>&lt;chr&gt;</th><th scope=col>&lt;chr&gt;</th><th scope=col>&lt;chr&gt;</th><th scope=col>&lt;chr&gt;</th><th scope=col>&lt;chr&gt;</th><th scope=col>&lt;chr&gt;</th><th scope=col>⋯</th><th scope=col>&lt;chr&gt;</th><th scope=col>&lt;chr&gt;</th><th scope=col>&lt;chr&gt;</th><th scope=col>&lt;chr&gt;</th><th scope=col>&lt;chr&gt;</th><th scope=col>&lt;chr&gt;</th><th scope=col>&lt;chr&gt;</th><th scope=col>&lt;chr&gt;</th><th scope=col>&lt;chr&gt;</th><th scope=col>&lt;chr&gt;</th></tr>\n",
       "</thead>\n",
       "<tbody>\n",
       "\t<tr><th scope=row>38</th><td>                                                                                                                                        </td><td></td><td></td><td></td><td></td><td></td><td></td><td></td><td></td><td></td><td>⋯</td><td></td><td></td><td></td><td></td><td></td><td></td><td></td><td></td><td></td><td></td></tr>\n",
       "\t<tr><th scope=row>39</th><td>* NFS - ATM Cash Withdrawal - includes card+PIN transactions on micro-ATMs and does not include Card to Card Fund transfer transactions.</td><td></td><td></td><td></td><td></td><td></td><td></td><td></td><td></td><td></td><td>⋯</td><td></td><td></td><td></td><td></td><td></td><td></td><td></td><td></td><td></td><td></td></tr>\n",
       "\t<tr><th scope=row>40</th><td>                                                                                                                                        </td><td></td><td></td><td></td><td></td><td></td><td></td><td></td><td></td><td></td><td>⋯</td><td></td><td></td><td></td><td></td><td></td><td></td><td></td><td></td><td></td><td></td></tr>\n",
       "\t<tr><th scope=row>41</th><td>                                                                                                                                        </td><td></td><td></td><td></td><td></td><td></td><td></td><td></td><td></td><td></td><td>⋯</td><td></td><td></td><td></td><td></td><td></td><td></td><td></td><td></td><td></td><td></td></tr>\n",
       "\t<tr><th scope=row>42</th><td>                                                                                                                                        </td><td></td><td></td><td></td><td></td><td></td><td></td><td></td><td></td><td></td><td>⋯</td><td></td><td></td><td></td><td></td><td></td><td></td><td></td><td></td><td></td><td></td></tr>\n",
       "\t<tr><th scope=row>43</th><td>                                                                                                                                        </td><td></td><td></td><td></td><td></td><td></td><td></td><td></td><td></td><td></td><td>⋯</td><td></td><td></td><td></td><td></td><td></td><td></td><td></td><td></td><td></td><td></td></tr>\n",
       "</tbody>\n",
       "</table>\n"
      ],
      "text/latex": [
       "A data.frame: 6 × 155\n",
       "\\begin{tabular}{r|lllllllllllllllllllll}\n",
       "  & NPCI.Operated.Systems & F.Y.2014.15 & X & F.Y.2015.16 & X.1 & Apr.16 & X.2 & May.16 & X.3 & June.16 & ⋯ & Sep.21 & X.72 & Oct.21 & X.73 & Nov.21 & X.74 & Dec.21 & X.75 & F.Y.2021.22 & X.76\\\\\n",
       "  & <chr> & <chr> & <chr> & <chr> & <chr> & <chr> & <chr> & <chr> & <chr> & <chr> & ⋯ & <chr> & <chr> & <chr> & <chr> & <chr> & <chr> & <chr> & <chr> & <chr> & <chr>\\\\\n",
       "\\hline\n",
       "\t38 &                                                                                                                                          &  &  &  &  &  &  &  &  &  & ⋯ &  &  &  &  &  &  &  &  &  & \\\\\n",
       "\t39 & * NFS - ATM Cash Withdrawal - includes card+PIN transactions on micro-ATMs and does not include Card to Card Fund transfer transactions. &  &  &  &  &  &  &  &  &  & ⋯ &  &  &  &  &  &  &  &  &  & \\\\\n",
       "\t40 &                                                                                                                                          &  &  &  &  &  &  &  &  &  & ⋯ &  &  &  &  &  &  &  &  &  & \\\\\n",
       "\t41 &                                                                                                                                          &  &  &  &  &  &  &  &  &  & ⋯ &  &  &  &  &  &  &  &  &  & \\\\\n",
       "\t42 &                                                                                                                                          &  &  &  &  &  &  &  &  &  & ⋯ &  &  &  &  &  &  &  &  &  & \\\\\n",
       "\t43 &                                                                                                                                          &  &  &  &  &  &  &  &  &  & ⋯ &  &  &  &  &  &  &  &  &  & \\\\\n",
       "\\end{tabular}\n"
      ],
      "text/markdown": [
       "\n",
       "A data.frame: 6 × 155\n",
       "\n",
       "| <!--/--> | NPCI.Operated.Systems &lt;chr&gt; | F.Y.2014.15 &lt;chr&gt; | X &lt;chr&gt; | F.Y.2015.16 &lt;chr&gt; | X.1 &lt;chr&gt; | Apr.16 &lt;chr&gt; | X.2 &lt;chr&gt; | May.16 &lt;chr&gt; | X.3 &lt;chr&gt; | June.16 &lt;chr&gt; | ⋯ ⋯ | Sep.21 &lt;chr&gt; | X.72 &lt;chr&gt; | Oct.21 &lt;chr&gt; | X.73 &lt;chr&gt; | Nov.21 &lt;chr&gt; | X.74 &lt;chr&gt; | Dec.21 &lt;chr&gt; | X.75 &lt;chr&gt; | F.Y.2021.22 &lt;chr&gt; | X.76 &lt;chr&gt; |\n",
       "|---|---|---|---|---|---|---|---|---|---|---|---|---|---|---|---|---|---|---|---|---|---|\n",
       "| 38 | <!----> | <!----> | <!----> | <!----> | <!----> | <!----> | <!----> | <!----> | <!----> | <!----> | ⋯ | <!----> | <!----> | <!----> | <!----> | <!----> | <!----> | <!----> | <!----> | <!----> | <!----> |\n",
       "| 39 | * NFS - ATM Cash Withdrawal - includes card+PIN transactions on micro-ATMs and does not include Card to Card Fund transfer transactions. | <!----> | <!----> | <!----> | <!----> | <!----> | <!----> | <!----> | <!----> | <!----> | ⋯ | <!----> | <!----> | <!----> | <!----> | <!----> | <!----> | <!----> | <!----> | <!----> | <!----> |\n",
       "| 40 | <!----> | <!----> | <!----> | <!----> | <!----> | <!----> | <!----> | <!----> | <!----> | <!----> | ⋯ | <!----> | <!----> | <!----> | <!----> | <!----> | <!----> | <!----> | <!----> | <!----> | <!----> |\n",
       "| 41 | <!----> | <!----> | <!----> | <!----> | <!----> | <!----> | <!----> | <!----> | <!----> | <!----> | ⋯ | <!----> | <!----> | <!----> | <!----> | <!----> | <!----> | <!----> | <!----> | <!----> | <!----> |\n",
       "| 42 | <!----> | <!----> | <!----> | <!----> | <!----> | <!----> | <!----> | <!----> | <!----> | <!----> | ⋯ | <!----> | <!----> | <!----> | <!----> | <!----> | <!----> | <!----> | <!----> | <!----> | <!----> |\n",
       "| 43 | <!----> | <!----> | <!----> | <!----> | <!----> | <!----> | <!----> | <!----> | <!----> | <!----> | ⋯ | <!----> | <!----> | <!----> | <!----> | <!----> | <!----> | <!----> | <!----> | <!----> | <!----> |\n",
       "\n"
      ],
      "text/plain": [
       "   NPCI.Operated.Systems                                                                                                                   \n",
       "38                                                                                                                                         \n",
       "39 * NFS - ATM Cash Withdrawal - includes card+PIN transactions on micro-ATMs and does not include Card to Card Fund transfer transactions.\n",
       "40                                                                                                                                         \n",
       "41                                                                                                                                         \n",
       "42                                                                                                                                         \n",
       "43                                                                                                                                         \n",
       "   F.Y.2014.15 X F.Y.2015.16 X.1 Apr.16 X.2 May.16 X.3 June.16 ⋯ Sep.21 X.72\n",
       "38                                                             ⋯            \n",
       "39                                                             ⋯            \n",
       "40                                                             ⋯            \n",
       "41                                                             ⋯            \n",
       "42                                                             ⋯            \n",
       "43                                                             ⋯            \n",
       "   Oct.21 X.73 Nov.21 X.74 Dec.21 X.75 F.Y.2021.22 X.76\n",
       "38                                                     \n",
       "39                                                     \n",
       "40                                                     \n",
       "41                                                     \n",
       "42                                                     \n",
       "43                                                     "
      ]
     },
     "metadata": {},
     "output_type": "display_data"
    },
    {
     "name": "stdout",
     "output_type": "stream",
     "text": [
      "'data.frame':\t43 obs. of  155 variables:\n",
      " $ NPCI.Operated.Systems         : chr  \"Financial Txns:\" \"NFS - National Financial Switch\" \"NFS - ATM Cash Withdrawal *\" \"NFS - Cash deposit transactions\" ...\n",
      " $ F.Y.2014.15                   : chr  \"Volume (in Mn)\" \" 2,374.30 \" \" 2,374.30 \" \" -   \" ...\n",
      " $ X                             : chr  \"Value (in Bn)\" \" 8,311.67 \" \" 8,311.67 \" \" -   \" ...\n",
      " $ F.Y.2015.16                   : chr  \"Volume (in Mn)\" \" 2,837.01 \" \" 2,837.01 \" \" -   \" ...\n",
      " $ X.1                           : chr  \"Value (in Bn)\" \" 9,993.22 \" \" 9,993.22 \" \" -   \" ...\n",
      " $ Apr.16                        : chr  \"Volume (in Mn)\" \" 260.33 \" \" 260.33 \" \"\" ...\n",
      " $ X.2                           : chr  \"Value (in Bn)\" \" 954.10 \" \" 954.10 \" \"\" ...\n",
      " $ May.16                        : chr  \"Volume (in Mn)\" \" 265.68 \" \" 265.68 \" \"\" ...\n",
      " $ X.3                           : chr  \"Value (in Bn)\" \" 955.18 \" \" 955.18 \" \"\" ...\n",
      " $ June.16                       : chr  \"Volume (in Mn)\" \" 260.99 \" \" 260.99 \" \"\" ...\n",
      " $ X.4                           : chr  \"Value (in Bn)\" \" 944.82 \" \" 944.82 \" \"\" ...\n",
      " $ July.16                       : chr  \"Volume (in Mn)\" \" 268.31 \" \" 268.31 \" \"\" ...\n",
      " $ X.5                           : chr  \"Value (in Bn)\" \" 960.13 \" \" 960.13 \" \"\" ...\n",
      " $ August.16                     : chr  \"Volume (in Mn)\" \" 269.70 \" \" 269.70 \" \"\" ...\n",
      " $ X.6                           : chr  \"Value (in Bn)\" \" 948.48 \" \" 948.48 \" \"\" ...\n",
      " $ September.16                  : chr  \"Volume (in Mn)\" \" 267.24 \" \" 267.24 \" \"\" ...\n",
      " $ X.7                           : chr  \"Value (in Bn)\" \" 955.19 \" \" 955.19 \" \"\" ...\n",
      " $ October.16                    : chr  \"Volume (in Mn)\" \" 295.15 \" \" 295.15 \" \"\" ...\n",
      " $ X.8                           : chr  \"Value (in Bn)\" \" 1,103.79 \" \" 1,103.79 \" \"\" ...\n",
      " $ November.16                   : chr  \"Volume (in Mn)\" \" 228.14 \" \" 228.14 \" \"\" ...\n",
      " $ X.9                           : chr  \"Value (in Bn)\" \" 572.57 \" \" 572.57 \" \"\" ...\n",
      " $ December.16                   : chr  \"Volume (in Mn)\" \" 259.94 \" \" 259.94 \" \"\" ...\n",
      " $ X.10                          : chr  \"Value (in Bn)\" \" 484.20 \" \" 484.20 \" \"\" ...\n",
      " $ January.17                    : chr  \"Volume (in Mn)\" \" 267.70 \" \" 267.70 \" \"\" ...\n",
      " $ X.11                          : chr  \"Value (in Bn)\" \" 854.80 \" \" 854.80 \" \"\" ...\n",
      " $ February.17                   : chr  \"Volume (in Mn)\" \" 253.41 \" \" 253.41 \" \"\" ...\n",
      " $ X.12                          : chr  \"Value (in Bn)\" \" 999.65 \" \" 999.65 \" \"\" ...\n",
      " $ March.17                      : chr  \"Volume (in Mn)\" \" 273.59 \" \" 273.59 \" \"\" ...\n",
      " $ X.13                          : chr  \"Value (in Bn)\" \" 1,085.49 \" \" 1,085.49 \" \"\" ...\n",
      " $ F.Y.2016.17                   : chr  \"Volume (in Mn)\" \" 3,170.18 \" \" 3,170.18 \" \" -   \" ...\n",
      " $ X.14                          : chr  \"Value (in Bn)\" \" 10,818.39 \" \" 10,818.39 \" \" -   \" ...\n",
      " $ Apr.17                        : chr  \"Volume (in Mn)\" \" 265.19 \" \" 265.19 \" \"\" ...\n",
      " $ X.15                          : chr  \"Value (in Bn)\" \" 1,071.15 \" \" 1,071.15 \" \"\" ...\n",
      " $ May.17                        : chr  \"Volume (in Mn)\" \" 270.31 \" \" 270.31 \" \"\" ...\n",
      " $ X.16                          : chr  \"Value (in Bn)\" \" 1,073.50 \" \" 1,073.50 \" \"\" ...\n",
      " $ Jun.17                        : chr  \"Volume (in Mn)\" \" 268.50 \" \" 268.50 \" \"\" ...\n",
      " $ X.17                          : chr  \"Value (in Bn)\" \" 1,062.34 \" \" 1,062.34 \" \"\" ...\n",
      " $ Jul.17                        : chr  \"Volume (in Mn)\" \" 275.06 \" \" 275.06 \" \"\" ...\n",
      " $ X.18                          : chr  \"Value (in Bn)\" \" 1,022.59 \" \" 1,022.59 \" \"\" ...\n",
      " $ Aug.17                        : chr  \"Volume (in Mn)\" \" 281.81 \" \" 281.81 \" \"\" ...\n",
      " $ X.19                          : chr  \"Value (in Bn)\" \" 1,037.82 \" \" 1,037.82 \" \"\" ...\n",
      " $ Sep.17                        : chr  \"Volume (in Mn)\" \" 289.17 \" \" 289.17 \" \"\" ...\n",
      " $ X.20                          : chr  \"Value (in Bn)\" \" 1,079.94 \" \" 1,079.94 \" \"\" ...\n",
      " $ Oct.17                        : chr  \"Volume (in Mn)\" \" 300.94 \" \" 300.94 \" \"\" ...\n",
      " $ X.21                          : chr  \"Value (in Bn)\" \" 1,150.79 \" \" 1,150.79 \" \"\" ...\n",
      " $ Nov.17                        : chr  \"Volume (in Mn)\" \" 295.65 \" \" 295.65 \" \"\" ...\n",
      " $ X.22                          : chr  \"Value (in Bn)\" \" 1,100.12 \" \" 1,100.12 \" \"\" ...\n",
      " $ Dec.17                        : chr  \"Volume (in Mn)\" \" 316.24 \" \" 316.24 \" \"\" ...\n",
      " $ X.23                          : chr  \"Value (in Bn)\" \" 1,185.43 \" \" 1,185.43 \" \"\" ...\n",
      " $ Jan.18                        : chr  \"Volume (in Mn)\" \" 310.55 \" \" 310.55 \" \"\" ...\n",
      " $ X.24                          : chr  \"Value (in Bn)\" \" 1,163.62 \" \" 1,163.62 \" \"\" ...\n",
      " $ Feb.18                        : chr  \"Volume (in Mn)\" \" 300.47 \" \" 300.47 \" \"\" ...\n",
      " $ X.25                          : chr  \"Value (in Bn)\" \" 1,150.09 \" \" 1,150.09 \" \"\" ...\n",
      " $ Mar.18                        : chr  \"Volume (in Mn)\" \" 329.58 \" \" 329.58 \" \"\" ...\n",
      " $ X.26                          : chr  \"Value (in Bn)\" \" 1,260.09 \" \" 1,260.09 \" \"\" ...\n",
      " $ F.Y.2017.18..Apr.17.to.Mar.18.: chr  \"Volume (in Mn)\" \" 3,503.44 \" \" 3,503.44 \" \" 0.00 \" ...\n",
      " $ X.27                          : chr  \"Value (in Bn)\" \" 13,357.49 \" \" 13,357.49 \" \" 0.00 \" ...\n",
      " $ Apr.18                        : chr  \"Volume (in Mn)\" \" 325.57 \" \" 325.57 \" \"\" ...\n",
      " $ X.28                          : chr  \"Value (in Bn)\" \" 1,291.08 \" \" 1,291.08 \" \"\" ...\n",
      " $ May.18                        : chr  \"Volume (in Mn)\" \" 325.22 \" \" 325.22 \" \"\" ...\n",
      " $ X.29                          : chr  \"Value (in Bn)\" \" 1,270.22 \" \" 1,270.22 \" \"\" ...\n",
      " $ June.18                       : chr  \"Volume (in Mn)\" \" 324.99 \" \" 324.99 \" \"\" ...\n",
      " $ X.30                          : chr  \"Value (in Bn)\" \" 1,281.22 \" \" 1,281.22 \" \"\" ...\n",
      " $ July.18                       : chr  \"Volume (in Mn)\" \" 329.34 \" \" 329.34 \" \"\" ...\n",
      " $ X.31                          : chr  \"Value (in Bn)\" \" 1,230.99 \" \" 1,230.99 \" \"\" ...\n",
      " $ Aug.18                        : chr  \"Volume (in Mn)\" \" 338.27 \" \" 338.27 \" \"\" ...\n",
      " $ X.32                          : chr  \"Value (in Bn)\" \" 1,260.59 \" \" 1,260.59 \" \"\" ...\n",
      " $ Sep.18                        : chr  \"Volume (in Mn)\" \" 332.00 \" \" 332.00 \" \"\" ...\n",
      " $ X.33                          : chr  \"Value (in Bn)\" \" 1,218.19 \" \" 1,218.19 \" \"\" ...\n",
      " $ Oct.18                        : chr  \"Volume (in Mn)\" \" 358.75 \" \" 358.75 \" \"\" ...\n",
      " $ X.34                          : chr  \"Value (in Bn)\" \" 1,330.15 \" \" 1,330.15 \" \"\" ...\n",
      " $ Nov.18                        : chr  \"Volume (in Mn)\" \" 342.40 \" \" 342.40 \" \"\" ...\n",
      " $ X.35                          : chr  \"Value (in Bn)\" \" 1,299.49 \" \" 1,299.49 \" \"\" ...\n",
      " $ Dec.18                        : chr  \"Volume (in Mn)\" \" 349.11 \" \" 349.11 \" \"\" ...\n",
      " $ X.36                          : chr  \"Value (in Bn)\" \" 1,287.33 \" \" 1,287.33 \" \"\" ...\n",
      " $ Jan.19                        : chr  \"Volume (in Mn)\" \" 323.35 \" \" 323.35 \" \"\" ...\n",
      " $ X.37                          : chr  \"Value (in Bn)\" \" 1,190.36 \" \" 1,190.36 \" \"\" ...\n",
      " $ Feb.19                        : chr  \"Volume (in Mn)\" \" 312.64 \" \" 312.64 \" \"\" ...\n",
      " $ X.38                          : chr  \"Value (in Bn)\" \" 1,158.39 \" \" 1,158.39 \" \"\" ...\n",
      " $ Mar.19                        : chr  \"Volume (in Mn)\" \" 355.78 \" \" 355.78 \" \"\" ...\n",
      " $ X.39                          : chr  \"Value (in Bn)\" \" 1,307.61 \" \" 1,307.61 \" \"\" ...\n",
      " $ F.Y.2018.19                   : chr  \"Volume (in Mn)\" \" 4,017.42 \" \" 4,017.41 \" \" 0.01 \" ...\n",
      " $ X.40                          : chr  \"Value (in Bn)\" \" 15,125.64 \" \" 15,125.62 \" \" 0.02 \" ...\n",
      " $ Apr.19                        : chr  \"Volume (in Mn)\" \" 344.96 \" \" 344.96 \" \" 0.00 \" ...\n",
      " $ X.41                          : chr  \"Value (in Bn)\" \" 1,308.39 \" \" 1,308.39 \" \" 0.00 \" ...\n",
      " $ May.19                        : chr  \"Volume (in Mn)\" \" 359.40 \" \" 359.39 \" \" 0.00 \" ...\n",
      " $ X.42                          : chr  \"Value (in Bn)\" \" 1,367.56 \" \" 1,367.56 \" \" 0.00 \" ...\n",
      " $ Jun.19                        : chr  \"Volume (in Mn)\" \" 350.30 \" \" 350.30 \" \" 0.00 \" ...\n",
      " $ X.43                          : chr  \"Value (in Bn)\" \" 1,321.01 \" \" 1,321.00 \" \" 0.00 \" ...\n",
      " $ Jul.19                        : chr  \"Volume (in Mn)\" \" 355.55 \" \" 355.55 \" \" 0.00 \" ...\n",
      " $ X.44                          : chr  \"Value (in Bn)\" \" 1,292.80 \" \" 1,292.80 \" \" 0.00 \" ...\n",
      " $ Aug.19                        : chr  \"Volume (in Mn)\" \" 363.03 \" \" 363.03 \" \" 0.00 \" ...\n",
      " $ X.45                          : chr  \"Value (in Bn)\" \" 1,333.54 \" \" 1,333.53 \" \" 0.00 \" ...\n",
      " $ Sep.19                        : chr  \"Volume (in Mn)\" \" 350.21 \" \" 350.21 \" \" 0.00 \" ...\n",
      " $ X.46                          : chr  \"Value (in Bn)\" \" 1,276.79 \" \" 1,276.79 \" \" 0.01 \" ...\n",
      " $ Oct.19                        : chr  \"Volume (in Mn)\" \" 387.50 \" \" 387.50 \" \" 0.00 \" ...\n",
      " $ X.47                          : chr  \"Value (in Bn)\" \" 1,488.53 \" \" 1,488.53 \" \" 0.01 \" ...\n",
      " $ Nov.19                        : chr  \"Volume (in Mn)\" \" 358.37 \" \" 358.37 \" \" 0.00 \" ...\n",
      " $ X.48                          : chr  \"Value (in Bn)\" \" 1,331.79 \" \" 1,331.78 \" \" 0.01 \" ...\n",
      "  [list output truncated]\n"
     ]
    }
   ],
   "source": [
    "Retail_pay<-read.csv(\"../input/retailpaymentsindia/RETAIL-PAYMENTS-STATISTICS-Dec-21.csv\")\n",
    "Retail_pay$Sr..No.<-NULL # removed sr. no. column\n",
    "head(Retail_pay)\n",
    "tail(Retail_pay)\n",
    "str(Retail_pay)"
   ]
  },
  {
   "cell_type": "markdown",
   "id": "7c5d7390",
   "metadata": {
    "papermill": {
     "duration": 0.061524,
     "end_time": "2022-12-27T09:17:43.559474",
     "exception": false,
     "start_time": "2022-12-27T09:17:43.497950",
     "status": "completed"
    },
    "tags": []
   },
   "source": [
    "Here, the First row :Financial Txns created problems. The data is also not in a proper format. Had to do data wrangling and clean up. There are some non financial transactions after row 22. Hence subsetting was done"
   ]
  },
  {
   "cell_type": "code",
   "execution_count": 3,
   "id": "2bde1bd1",
   "metadata": {
    "execution": {
     "iopub.execute_input": "2022-12-27T09:17:43.686974Z",
     "iopub.status.busy": "2022-12-27T09:17:43.685559Z",
     "iopub.status.idle": "2022-12-27T09:17:43.769314Z",
     "shell.execute_reply": "2022-12-27T09:17:43.768330Z"
    },
    "papermill": {
     "duration": 0.148702,
     "end_time": "2022-12-27T09:17:43.769462",
     "exception": false,
     "start_time": "2022-12-27T09:17:43.620760",
     "status": "completed"
    },
    "tags": [],
    "vscode": {
     "languageId": "r"
    }
   },
   "outputs": [
    {
     "data": {
      "text/html": [
       "<table class=\"dataframe\">\n",
       "<caption>A tibble: 3234 × 3</caption>\n",
       "<thead>\n",
       "\t<tr><th scope=col>NPCI.Operated.Systems</th><th scope=col>year</th><th scope=col>Values</th></tr>\n",
       "\t<tr><th scope=col>&lt;chr&gt;</th><th scope=col>&lt;chr&gt;</th><th scope=col>&lt;chr&gt;</th></tr>\n",
       "</thead>\n",
       "<tbody>\n",
       "\t<tr><td>NFS - National Financial Switch</td><td>F.Y.2014.15 </td><td> 2,374.30  </td></tr>\n",
       "\t<tr><td>NFS - National Financial Switch</td><td>X           </td><td> 8,311.67  </td></tr>\n",
       "\t<tr><td>NFS - National Financial Switch</td><td>F.Y.2015.16 </td><td> 2,837.01  </td></tr>\n",
       "\t<tr><td>NFS - National Financial Switch</td><td>X.1         </td><td> 9,993.22  </td></tr>\n",
       "\t<tr><td>NFS - National Financial Switch</td><td>Apr.16      </td><td> 260.33    </td></tr>\n",
       "\t<tr><td>NFS - National Financial Switch</td><td>X.2         </td><td> 954.10    </td></tr>\n",
       "\t<tr><td>NFS - National Financial Switch</td><td>May.16      </td><td> 265.68    </td></tr>\n",
       "\t<tr><td>NFS - National Financial Switch</td><td>X.3         </td><td> 955.18    </td></tr>\n",
       "\t<tr><td>NFS - National Financial Switch</td><td>June.16     </td><td> 260.99    </td></tr>\n",
       "\t<tr><td>NFS - National Financial Switch</td><td>X.4         </td><td> 944.82    </td></tr>\n",
       "\t<tr><td>NFS - National Financial Switch</td><td>July.16     </td><td> 268.31    </td></tr>\n",
       "\t<tr><td>NFS - National Financial Switch</td><td>X.5         </td><td> 960.13    </td></tr>\n",
       "\t<tr><td>NFS - National Financial Switch</td><td>August.16   </td><td> 269.70    </td></tr>\n",
       "\t<tr><td>NFS - National Financial Switch</td><td>X.6         </td><td> 948.48    </td></tr>\n",
       "\t<tr><td>NFS - National Financial Switch</td><td>September.16</td><td> 267.24    </td></tr>\n",
       "\t<tr><td>NFS - National Financial Switch</td><td>X.7         </td><td> 955.19    </td></tr>\n",
       "\t<tr><td>NFS - National Financial Switch</td><td>October.16  </td><td> 295.15    </td></tr>\n",
       "\t<tr><td>NFS - National Financial Switch</td><td>X.8         </td><td> 1,103.79  </td></tr>\n",
       "\t<tr><td>NFS - National Financial Switch</td><td>November.16 </td><td> 228.14    </td></tr>\n",
       "\t<tr><td>NFS - National Financial Switch</td><td>X.9         </td><td> 572.57    </td></tr>\n",
       "\t<tr><td>NFS - National Financial Switch</td><td>December.16 </td><td> 259.94    </td></tr>\n",
       "\t<tr><td>NFS - National Financial Switch</td><td>X.10        </td><td> 484.20    </td></tr>\n",
       "\t<tr><td>NFS - National Financial Switch</td><td>January.17  </td><td> 267.70    </td></tr>\n",
       "\t<tr><td>NFS - National Financial Switch</td><td>X.11        </td><td> 854.80    </td></tr>\n",
       "\t<tr><td>NFS - National Financial Switch</td><td>February.17 </td><td> 253.41    </td></tr>\n",
       "\t<tr><td>NFS - National Financial Switch</td><td>X.12        </td><td> 999.65    </td></tr>\n",
       "\t<tr><td>NFS - National Financial Switch</td><td>March.17    </td><td> 273.59    </td></tr>\n",
       "\t<tr><td>NFS - National Financial Switch</td><td>X.13        </td><td> 1,085.49  </td></tr>\n",
       "\t<tr><td>NFS - National Financial Switch</td><td>F.Y.2016.17 </td><td> 3,170.18  </td></tr>\n",
       "\t<tr><td>NFS - National Financial Switch</td><td>X.14        </td><td> 10,818.39 </td></tr>\n",
       "\t<tr><td>⋮</td><td>⋮</td><td>⋮</td></tr>\n",
       "\t<tr><td>NETC </td><td>Dec.20     </td><td> 138.41   </td></tr>\n",
       "\t<tr><td>NETC </td><td>X.62       </td><td> 23.04    </td></tr>\n",
       "\t<tr><td>NETC </td><td>Jan.21     </td><td> 148.56   </td></tr>\n",
       "\t<tr><td>NETC </td><td>X.63       </td><td> 23.98    </td></tr>\n",
       "\t<tr><td>NETC </td><td>Feb.21     </td><td> 158.96   </td></tr>\n",
       "\t<tr><td>NETC </td><td>X.64       </td><td> 25.56    </td></tr>\n",
       "\t<tr><td>NETC </td><td>Mar.21     </td><td> 193.21   </td></tr>\n",
       "\t<tr><td>NETC </td><td>X.65       </td><td> 30.86    </td></tr>\n",
       "\t<tr><td>NETC </td><td>F.Y.2020.21</td><td> 1,327.28 </td></tr>\n",
       "\t<tr><td>NETC </td><td>X.66       </td><td> 227.62   </td></tr>\n",
       "\t<tr><td>NETC </td><td>Apr.21     </td><td> 164.33   </td></tr>\n",
       "\t<tr><td>NETC </td><td>X.67       </td><td> 27.77    </td></tr>\n",
       "\t<tr><td>NETC </td><td>May.21     </td><td> 116.48   </td></tr>\n",
       "\t<tr><td>NETC </td><td>X.68       </td><td> 21.25    </td></tr>\n",
       "\t<tr><td>NETC </td><td>Jun.21     </td><td> 157.86   </td></tr>\n",
       "\t<tr><td>NETC </td><td>X.69       </td><td> 25.76    </td></tr>\n",
       "\t<tr><td>NETC </td><td>Jul.21     </td><td> 192.33   </td></tr>\n",
       "\t<tr><td>NETC </td><td>X.70       </td><td> 29.76    </td></tr>\n",
       "\t<tr><td>NETC </td><td>Aug.21     </td><td> 201.20   </td></tr>\n",
       "\t<tr><td>NETC </td><td>X.71       </td><td> 30.77    </td></tr>\n",
       "\t<tr><td>NETC </td><td>Sep.21     </td><td> 193.61   </td></tr>\n",
       "\t<tr><td>NETC </td><td>X.72       </td><td> 30.09    </td></tr>\n",
       "\t<tr><td>NETC </td><td>Oct.21     </td><td> 214.23   </td></tr>\n",
       "\t<tr><td>NETC </td><td>X.73       </td><td> 33.57    </td></tr>\n",
       "\t<tr><td>NETC </td><td>Nov.21     </td><td> 214.13   </td></tr>\n",
       "\t<tr><td>NETC </td><td>X.74       </td><td> 31.77    </td></tr>\n",
       "\t<tr><td>NETC </td><td>Dec.21     </td><td> 242.07   </td></tr>\n",
       "\t<tr><td>NETC </td><td>X.75       </td><td> 36.79    </td></tr>\n",
       "\t<tr><td>NETC </td><td>F.Y.2021.22</td><td> 1,696.25 </td></tr>\n",
       "\t<tr><td>NETC </td><td>X.76       </td><td> 267.54   </td></tr>\n",
       "</tbody>\n",
       "</table>\n"
      ],
      "text/latex": [
       "A tibble: 3234 × 3\n",
       "\\begin{tabular}{lll}\n",
       " NPCI.Operated.Systems & year & Values\\\\\n",
       " <chr> & <chr> & <chr>\\\\\n",
       "\\hline\n",
       "\t NFS - National Financial Switch & F.Y.2014.15  &  2,374.30  \\\\\n",
       "\t NFS - National Financial Switch & X            &  8,311.67  \\\\\n",
       "\t NFS - National Financial Switch & F.Y.2015.16  &  2,837.01  \\\\\n",
       "\t NFS - National Financial Switch & X.1          &  9,993.22  \\\\\n",
       "\t NFS - National Financial Switch & Apr.16       &  260.33    \\\\\n",
       "\t NFS - National Financial Switch & X.2          &  954.10    \\\\\n",
       "\t NFS - National Financial Switch & May.16       &  265.68    \\\\\n",
       "\t NFS - National Financial Switch & X.3          &  955.18    \\\\\n",
       "\t NFS - National Financial Switch & June.16      &  260.99    \\\\\n",
       "\t NFS - National Financial Switch & X.4          &  944.82    \\\\\n",
       "\t NFS - National Financial Switch & July.16      &  268.31    \\\\\n",
       "\t NFS - National Financial Switch & X.5          &  960.13    \\\\\n",
       "\t NFS - National Financial Switch & August.16    &  269.70    \\\\\n",
       "\t NFS - National Financial Switch & X.6          &  948.48    \\\\\n",
       "\t NFS - National Financial Switch & September.16 &  267.24    \\\\\n",
       "\t NFS - National Financial Switch & X.7          &  955.19    \\\\\n",
       "\t NFS - National Financial Switch & October.16   &  295.15    \\\\\n",
       "\t NFS - National Financial Switch & X.8          &  1,103.79  \\\\\n",
       "\t NFS - National Financial Switch & November.16  &  228.14    \\\\\n",
       "\t NFS - National Financial Switch & X.9          &  572.57    \\\\\n",
       "\t NFS - National Financial Switch & December.16  &  259.94    \\\\\n",
       "\t NFS - National Financial Switch & X.10         &  484.20    \\\\\n",
       "\t NFS - National Financial Switch & January.17   &  267.70    \\\\\n",
       "\t NFS - National Financial Switch & X.11         &  854.80    \\\\\n",
       "\t NFS - National Financial Switch & February.17  &  253.41    \\\\\n",
       "\t NFS - National Financial Switch & X.12         &  999.65    \\\\\n",
       "\t NFS - National Financial Switch & March.17     &  273.59    \\\\\n",
       "\t NFS - National Financial Switch & X.13         &  1,085.49  \\\\\n",
       "\t NFS - National Financial Switch & F.Y.2016.17  &  3,170.18  \\\\\n",
       "\t NFS - National Financial Switch & X.14         &  10,818.39 \\\\\n",
       "\t ⋮ & ⋮ & ⋮\\\\\n",
       "\t NETC  & Dec.20      &  138.41   \\\\\n",
       "\t NETC  & X.62        &  23.04    \\\\\n",
       "\t NETC  & Jan.21      &  148.56   \\\\\n",
       "\t NETC  & X.63        &  23.98    \\\\\n",
       "\t NETC  & Feb.21      &  158.96   \\\\\n",
       "\t NETC  & X.64        &  25.56    \\\\\n",
       "\t NETC  & Mar.21      &  193.21   \\\\\n",
       "\t NETC  & X.65        &  30.86    \\\\\n",
       "\t NETC  & F.Y.2020.21 &  1,327.28 \\\\\n",
       "\t NETC  & X.66        &  227.62   \\\\\n",
       "\t NETC  & Apr.21      &  164.33   \\\\\n",
       "\t NETC  & X.67        &  27.77    \\\\\n",
       "\t NETC  & May.21      &  116.48   \\\\\n",
       "\t NETC  & X.68        &  21.25    \\\\\n",
       "\t NETC  & Jun.21      &  157.86   \\\\\n",
       "\t NETC  & X.69        &  25.76    \\\\\n",
       "\t NETC  & Jul.21      &  192.33   \\\\\n",
       "\t NETC  & X.70        &  29.76    \\\\\n",
       "\t NETC  & Aug.21      &  201.20   \\\\\n",
       "\t NETC  & X.71        &  30.77    \\\\\n",
       "\t NETC  & Sep.21      &  193.61   \\\\\n",
       "\t NETC  & X.72        &  30.09    \\\\\n",
       "\t NETC  & Oct.21      &  214.23   \\\\\n",
       "\t NETC  & X.73        &  33.57    \\\\\n",
       "\t NETC  & Nov.21      &  214.13   \\\\\n",
       "\t NETC  & X.74        &  31.77    \\\\\n",
       "\t NETC  & Dec.21      &  242.07   \\\\\n",
       "\t NETC  & X.75        &  36.79    \\\\\n",
       "\t NETC  & F.Y.2021.22 &  1,696.25 \\\\\n",
       "\t NETC  & X.76        &  267.54   \\\\\n",
       "\\end{tabular}\n"
      ],
      "text/markdown": [
       "\n",
       "A tibble: 3234 × 3\n",
       "\n",
       "| NPCI.Operated.Systems &lt;chr&gt; | year &lt;chr&gt; | Values &lt;chr&gt; |\n",
       "|---|---|---|\n",
       "| NFS - National Financial Switch | F.Y.2014.15  |  2,374.30   |\n",
       "| NFS - National Financial Switch | X            |  8,311.67   |\n",
       "| NFS - National Financial Switch | F.Y.2015.16  |  2,837.01   |\n",
       "| NFS - National Financial Switch | X.1          |  9,993.22   |\n",
       "| NFS - National Financial Switch | Apr.16       |  260.33     |\n",
       "| NFS - National Financial Switch | X.2          |  954.10     |\n",
       "| NFS - National Financial Switch | May.16       |  265.68     |\n",
       "| NFS - National Financial Switch | X.3          |  955.18     |\n",
       "| NFS - National Financial Switch | June.16      |  260.99     |\n",
       "| NFS - National Financial Switch | X.4          |  944.82     |\n",
       "| NFS - National Financial Switch | July.16      |  268.31     |\n",
       "| NFS - National Financial Switch | X.5          |  960.13     |\n",
       "| NFS - National Financial Switch | August.16    |  269.70     |\n",
       "| NFS - National Financial Switch | X.6          |  948.48     |\n",
       "| NFS - National Financial Switch | September.16 |  267.24     |\n",
       "| NFS - National Financial Switch | X.7          |  955.19     |\n",
       "| NFS - National Financial Switch | October.16   |  295.15     |\n",
       "| NFS - National Financial Switch | X.8          |  1,103.79   |\n",
       "| NFS - National Financial Switch | November.16  |  228.14     |\n",
       "| NFS - National Financial Switch | X.9          |  572.57     |\n",
       "| NFS - National Financial Switch | December.16  |  259.94     |\n",
       "| NFS - National Financial Switch | X.10         |  484.20     |\n",
       "| NFS - National Financial Switch | January.17   |  267.70     |\n",
       "| NFS - National Financial Switch | X.11         |  854.80     |\n",
       "| NFS - National Financial Switch | February.17  |  253.41     |\n",
       "| NFS - National Financial Switch | X.12         |  999.65     |\n",
       "| NFS - National Financial Switch | March.17     |  273.59     |\n",
       "| NFS - National Financial Switch | X.13         |  1,085.49   |\n",
       "| NFS - National Financial Switch | F.Y.2016.17  |  3,170.18   |\n",
       "| NFS - National Financial Switch | X.14         |  10,818.39  |\n",
       "| ⋮ | ⋮ | ⋮ |\n",
       "| NETC  | Dec.20      |  138.41    |\n",
       "| NETC  | X.62        |  23.04     |\n",
       "| NETC  | Jan.21      |  148.56    |\n",
       "| NETC  | X.63        |  23.98     |\n",
       "| NETC  | Feb.21      |  158.96    |\n",
       "| NETC  | X.64        |  25.56     |\n",
       "| NETC  | Mar.21      |  193.21    |\n",
       "| NETC  | X.65        |  30.86     |\n",
       "| NETC  | F.Y.2020.21 |  1,327.28  |\n",
       "| NETC  | X.66        |  227.62    |\n",
       "| NETC  | Apr.21      |  164.33    |\n",
       "| NETC  | X.67        |  27.77     |\n",
       "| NETC  | May.21      |  116.48    |\n",
       "| NETC  | X.68        |  21.25     |\n",
       "| NETC  | Jun.21      |  157.86    |\n",
       "| NETC  | X.69        |  25.76     |\n",
       "| NETC  | Jul.21      |  192.33    |\n",
       "| NETC  | X.70        |  29.76     |\n",
       "| NETC  | Aug.21      |  201.20    |\n",
       "| NETC  | X.71        |  30.77     |\n",
       "| NETC  | Sep.21      |  193.61    |\n",
       "| NETC  | X.72        |  30.09     |\n",
       "| NETC  | Oct.21      |  214.23    |\n",
       "| NETC  | X.73        |  33.57     |\n",
       "| NETC  | Nov.21      |  214.13    |\n",
       "| NETC  | X.74        |  31.77     |\n",
       "| NETC  | Dec.21      |  242.07    |\n",
       "| NETC  | X.75        |  36.79     |\n",
       "| NETC  | F.Y.2021.22 |  1,696.25  |\n",
       "| NETC  | X.76        |  267.54    |\n",
       "\n"
      ],
      "text/plain": [
       "     NPCI.Operated.Systems           year         Values     \n",
       "1    NFS - National Financial Switch F.Y.2014.15   2,374.30  \n",
       "2    NFS - National Financial Switch X             8,311.67  \n",
       "3    NFS - National Financial Switch F.Y.2015.16   2,837.01  \n",
       "4    NFS - National Financial Switch X.1           9,993.22  \n",
       "5    NFS - National Financial Switch Apr.16        260.33    \n",
       "6    NFS - National Financial Switch X.2           954.10    \n",
       "7    NFS - National Financial Switch May.16        265.68    \n",
       "8    NFS - National Financial Switch X.3           955.18    \n",
       "9    NFS - National Financial Switch June.16       260.99    \n",
       "10   NFS - National Financial Switch X.4           944.82    \n",
       "11   NFS - National Financial Switch July.16       268.31    \n",
       "12   NFS - National Financial Switch X.5           960.13    \n",
       "13   NFS - National Financial Switch August.16     269.70    \n",
       "14   NFS - National Financial Switch X.6           948.48    \n",
       "15   NFS - National Financial Switch September.16  267.24    \n",
       "16   NFS - National Financial Switch X.7           955.19    \n",
       "17   NFS - National Financial Switch October.16    295.15    \n",
       "18   NFS - National Financial Switch X.8           1,103.79  \n",
       "19   NFS - National Financial Switch November.16   228.14    \n",
       "20   NFS - National Financial Switch X.9           572.57    \n",
       "21   NFS - National Financial Switch December.16   259.94    \n",
       "22   NFS - National Financial Switch X.10          484.20    \n",
       "23   NFS - National Financial Switch January.17    267.70    \n",
       "24   NFS - National Financial Switch X.11          854.80    \n",
       "25   NFS - National Financial Switch February.17   253.41    \n",
       "26   NFS - National Financial Switch X.12          999.65    \n",
       "27   NFS - National Financial Switch March.17      273.59    \n",
       "28   NFS - National Financial Switch X.13          1,085.49  \n",
       "29   NFS - National Financial Switch F.Y.2016.17   3,170.18  \n",
       "30   NFS - National Financial Switch X.14          10,818.39 \n",
       "⋮    ⋮                               ⋮            ⋮          \n",
       "3205 NETC                            Dec.20        138.41    \n",
       "3206 NETC                            X.62          23.04     \n",
       "3207 NETC                            Jan.21        148.56    \n",
       "3208 NETC                            X.63          23.98     \n",
       "3209 NETC                            Feb.21        158.96    \n",
       "3210 NETC                            X.64          25.56     \n",
       "3211 NETC                            Mar.21        193.21    \n",
       "3212 NETC                            X.65          30.86     \n",
       "3213 NETC                            F.Y.2020.21   1,327.28  \n",
       "3214 NETC                            X.66          227.62    \n",
       "3215 NETC                            Apr.21        164.33    \n",
       "3216 NETC                            X.67          27.77     \n",
       "3217 NETC                            May.21        116.48    \n",
       "3218 NETC                            X.68          21.25     \n",
       "3219 NETC                            Jun.21        157.86    \n",
       "3220 NETC                            X.69          25.76     \n",
       "3221 NETC                            Jul.21        192.33    \n",
       "3222 NETC                            X.70          29.76     \n",
       "3223 NETC                            Aug.21        201.20    \n",
       "3224 NETC                            X.71          30.77     \n",
       "3225 NETC                            Sep.21        193.61    \n",
       "3226 NETC                            X.72          30.09     \n",
       "3227 NETC                            Oct.21        214.23    \n",
       "3228 NETC                            X.73          33.57     \n",
       "3229 NETC                            Nov.21        214.13    \n",
       "3230 NETC                            X.74          31.77     \n",
       "3231 NETC                            Dec.21        242.07    \n",
       "3232 NETC                            X.75          36.79     \n",
       "3233 NETC                            F.Y.2021.22   1,696.25  \n",
       "3234 NETC                            X.76          267.54    "
      ]
     },
     "metadata": {},
     "output_type": "display_data"
    }
   ],
   "source": [
    "Retail_pay<-Retail_pay[1:22,]\n",
    "library(tidyr)\n",
    "Retail_pay<-pivot_longer(Retail_pay, cols = 2:155, names_to =\"year\",\n",
    "             values_to = \"Values\")# data table converted to the longer format\n",
    "Retail_pay<-Retail_pay[155:3388,]#removed first 155 rows which were created as the result \n",
    "                    #of first row in the original table\n",
    "Retail_pay"
   ]
  },
  {
   "cell_type": "markdown",
   "id": "3e75db80",
   "metadata": {
    "papermill": {
     "duration": 0.065475,
     "end_time": "2022-12-27T09:17:43.898714",
     "exception": false,
     "start_time": "2022-12-27T09:17:43.833239",
     "status": "completed"
    },
    "tags": []
   },
   "source": [
    "Alternate row under year is marked with \"X\" series due to the structure of original data \n",
    "table (i.e. one year column was split in two sub columns of volume and value. Also need to add the volume_mn and Value_bn information to this table which was removed during wrangling and restructuring"
   ]
  },
  {
   "cell_type": "code",
   "execution_count": 4,
   "id": "e264002d",
   "metadata": {
    "execution": {
     "iopub.execute_input": "2022-12-27T09:17:44.037080Z",
     "iopub.status.busy": "2022-12-27T09:17:44.035167Z",
     "iopub.status.idle": "2022-12-27T09:17:44.133346Z",
     "shell.execute_reply": "2022-12-27T09:17:44.132288Z"
    },
    "papermill": {
     "duration": 0.170602,
     "end_time": "2022-12-27T09:17:44.133510",
     "exception": false,
     "start_time": "2022-12-27T09:17:43.962908",
     "status": "completed"
    },
    "tags": [],
    "vscode": {
     "languageId": "r"
    }
   },
   "outputs": [
    {
     "data": {
      "text/html": [
       "<table class=\"dataframe\">\n",
       "<caption>A tibble: 3234 × 4</caption>\n",
       "<thead>\n",
       "\t<tr><th scope=col>NPCI.Operated.Systems</th><th scope=col>year</th><th scope=col>Values</th><th scope=col>vol_Value</th></tr>\n",
       "\t<tr><th scope=col>&lt;chr&gt;</th><th scope=col>&lt;chr&gt;</th><th scope=col>&lt;chr&gt;</th><th scope=col>&lt;chr&gt;</th></tr>\n",
       "</thead>\n",
       "<tbody>\n",
       "\t<tr><td>NFS - National Financial Switch</td><td>F.Y.2014.15 </td><td> 2,374.30  </td><td>Volume_mn</td></tr>\n",
       "\t<tr><td>NFS - National Financial Switch</td><td>F.Y.2014.15 </td><td> 8,311.67  </td><td>Value_bn </td></tr>\n",
       "\t<tr><td>NFS - National Financial Switch</td><td>F.Y.2015.16 </td><td> 2,837.01  </td><td>Volume_mn</td></tr>\n",
       "\t<tr><td>NFS - National Financial Switch</td><td>F.Y.2015.16 </td><td> 9,993.22  </td><td>Value_bn </td></tr>\n",
       "\t<tr><td>NFS - National Financial Switch</td><td>Apr.16      </td><td> 260.33    </td><td>Volume_mn</td></tr>\n",
       "\t<tr><td>NFS - National Financial Switch</td><td>Apr.16      </td><td> 954.10    </td><td>Value_bn </td></tr>\n",
       "\t<tr><td>NFS - National Financial Switch</td><td>May.16      </td><td> 265.68    </td><td>Volume_mn</td></tr>\n",
       "\t<tr><td>NFS - National Financial Switch</td><td>May.16      </td><td> 955.18    </td><td>Value_bn </td></tr>\n",
       "\t<tr><td>NFS - National Financial Switch</td><td>June.16     </td><td> 260.99    </td><td>Volume_mn</td></tr>\n",
       "\t<tr><td>NFS - National Financial Switch</td><td>June.16     </td><td> 944.82    </td><td>Value_bn </td></tr>\n",
       "\t<tr><td>NFS - National Financial Switch</td><td>July.16     </td><td> 268.31    </td><td>Volume_mn</td></tr>\n",
       "\t<tr><td>NFS - National Financial Switch</td><td>July.16     </td><td> 960.13    </td><td>Value_bn </td></tr>\n",
       "\t<tr><td>NFS - National Financial Switch</td><td>August.16   </td><td> 269.70    </td><td>Volume_mn</td></tr>\n",
       "\t<tr><td>NFS - National Financial Switch</td><td>August.16   </td><td> 948.48    </td><td>Value_bn </td></tr>\n",
       "\t<tr><td>NFS - National Financial Switch</td><td>September.16</td><td> 267.24    </td><td>Volume_mn</td></tr>\n",
       "\t<tr><td>NFS - National Financial Switch</td><td>September.16</td><td> 955.19    </td><td>Value_bn </td></tr>\n",
       "\t<tr><td>NFS - National Financial Switch</td><td>October.16  </td><td> 295.15    </td><td>Volume_mn</td></tr>\n",
       "\t<tr><td>NFS - National Financial Switch</td><td>October.16  </td><td> 1,103.79  </td><td>Value_bn </td></tr>\n",
       "\t<tr><td>NFS - National Financial Switch</td><td>November.16 </td><td> 228.14    </td><td>Volume_mn</td></tr>\n",
       "\t<tr><td>NFS - National Financial Switch</td><td>November.16 </td><td> 572.57    </td><td>Value_bn </td></tr>\n",
       "\t<tr><td>NFS - National Financial Switch</td><td>December.16 </td><td> 259.94    </td><td>Volume_mn</td></tr>\n",
       "\t<tr><td>NFS - National Financial Switch</td><td>December.16 </td><td> 484.20    </td><td>Value_bn </td></tr>\n",
       "\t<tr><td>NFS - National Financial Switch</td><td>January.17  </td><td> 267.70    </td><td>Volume_mn</td></tr>\n",
       "\t<tr><td>NFS - National Financial Switch</td><td>January.17  </td><td> 854.80    </td><td>Value_bn </td></tr>\n",
       "\t<tr><td>NFS - National Financial Switch</td><td>February.17 </td><td> 253.41    </td><td>Volume_mn</td></tr>\n",
       "\t<tr><td>NFS - National Financial Switch</td><td>February.17 </td><td> 999.65    </td><td>Value_bn </td></tr>\n",
       "\t<tr><td>NFS - National Financial Switch</td><td>March.17    </td><td> 273.59    </td><td>Volume_mn</td></tr>\n",
       "\t<tr><td>NFS - National Financial Switch</td><td>March.17    </td><td> 1,085.49  </td><td>Value_bn </td></tr>\n",
       "\t<tr><td>NFS - National Financial Switch</td><td>F.Y.2016.17 </td><td> 3,170.18  </td><td>Volume_mn</td></tr>\n",
       "\t<tr><td>NFS - National Financial Switch</td><td>F.Y.2016.17 </td><td> 10,818.39 </td><td>Value_bn </td></tr>\n",
       "\t<tr><td>⋮</td><td>⋮</td><td>⋮</td><td>⋮</td></tr>\n",
       "\t<tr><td>NETC </td><td>Dec.20     </td><td> 138.41   </td><td>Volume_mn</td></tr>\n",
       "\t<tr><td>NETC </td><td>Dec.20     </td><td> 23.04    </td><td>Value_bn </td></tr>\n",
       "\t<tr><td>NETC </td><td>Jan.21     </td><td> 148.56   </td><td>Volume_mn</td></tr>\n",
       "\t<tr><td>NETC </td><td>Jan.21     </td><td> 23.98    </td><td>Value_bn </td></tr>\n",
       "\t<tr><td>NETC </td><td>Feb.21     </td><td> 158.96   </td><td>Volume_mn</td></tr>\n",
       "\t<tr><td>NETC </td><td>Feb.21     </td><td> 25.56    </td><td>Value_bn </td></tr>\n",
       "\t<tr><td>NETC </td><td>Mar.21     </td><td> 193.21   </td><td>Volume_mn</td></tr>\n",
       "\t<tr><td>NETC </td><td>Mar.21     </td><td> 30.86    </td><td>Value_bn </td></tr>\n",
       "\t<tr><td>NETC </td><td>F.Y.2020.21</td><td> 1,327.28 </td><td>Volume_mn</td></tr>\n",
       "\t<tr><td>NETC </td><td>F.Y.2020.21</td><td> 227.62   </td><td>Value_bn </td></tr>\n",
       "\t<tr><td>NETC </td><td>Apr.21     </td><td> 164.33   </td><td>Volume_mn</td></tr>\n",
       "\t<tr><td>NETC </td><td>Apr.21     </td><td> 27.77    </td><td>Value_bn </td></tr>\n",
       "\t<tr><td>NETC </td><td>May.21     </td><td> 116.48   </td><td>Volume_mn</td></tr>\n",
       "\t<tr><td>NETC </td><td>May.21     </td><td> 21.25    </td><td>Value_bn </td></tr>\n",
       "\t<tr><td>NETC </td><td>Jun.21     </td><td> 157.86   </td><td>Volume_mn</td></tr>\n",
       "\t<tr><td>NETC </td><td>Jun.21     </td><td> 25.76    </td><td>Value_bn </td></tr>\n",
       "\t<tr><td>NETC </td><td>Jul.21     </td><td> 192.33   </td><td>Volume_mn</td></tr>\n",
       "\t<tr><td>NETC </td><td>Jul.21     </td><td> 29.76    </td><td>Value_bn </td></tr>\n",
       "\t<tr><td>NETC </td><td>Aug.21     </td><td> 201.20   </td><td>Volume_mn</td></tr>\n",
       "\t<tr><td>NETC </td><td>Aug.21     </td><td> 30.77    </td><td>Value_bn </td></tr>\n",
       "\t<tr><td>NETC </td><td>Sep.21     </td><td> 193.61   </td><td>Volume_mn</td></tr>\n",
       "\t<tr><td>NETC </td><td>Sep.21     </td><td> 30.09    </td><td>Value_bn </td></tr>\n",
       "\t<tr><td>NETC </td><td>Oct.21     </td><td> 214.23   </td><td>Volume_mn</td></tr>\n",
       "\t<tr><td>NETC </td><td>Oct.21     </td><td> 33.57    </td><td>Value_bn </td></tr>\n",
       "\t<tr><td>NETC </td><td>Nov.21     </td><td> 214.13   </td><td>Volume_mn</td></tr>\n",
       "\t<tr><td>NETC </td><td>Nov.21     </td><td> 31.77    </td><td>Value_bn </td></tr>\n",
       "\t<tr><td>NETC </td><td>Dec.21     </td><td> 242.07   </td><td>Volume_mn</td></tr>\n",
       "\t<tr><td>NETC </td><td>Dec.21     </td><td> 36.79    </td><td>Value_bn </td></tr>\n",
       "\t<tr><td>NETC </td><td>F.Y.2021.22</td><td> 1,696.25 </td><td>Volume_mn</td></tr>\n",
       "\t<tr><td>NETC </td><td>F.Y.2021.22</td><td> 267.54   </td><td>Value_bn </td></tr>\n",
       "</tbody>\n",
       "</table>\n"
      ],
      "text/latex": [
       "A tibble: 3234 × 4\n",
       "\\begin{tabular}{llll}\n",
       " NPCI.Operated.Systems & year & Values & vol\\_Value\\\\\n",
       " <chr> & <chr> & <chr> & <chr>\\\\\n",
       "\\hline\n",
       "\t NFS - National Financial Switch & F.Y.2014.15  &  2,374.30   & Volume\\_mn\\\\\n",
       "\t NFS - National Financial Switch & F.Y.2014.15  &  8,311.67   & Value\\_bn \\\\\n",
       "\t NFS - National Financial Switch & F.Y.2015.16  &  2,837.01   & Volume\\_mn\\\\\n",
       "\t NFS - National Financial Switch & F.Y.2015.16  &  9,993.22   & Value\\_bn \\\\\n",
       "\t NFS - National Financial Switch & Apr.16       &  260.33     & Volume\\_mn\\\\\n",
       "\t NFS - National Financial Switch & Apr.16       &  954.10     & Value\\_bn \\\\\n",
       "\t NFS - National Financial Switch & May.16       &  265.68     & Volume\\_mn\\\\\n",
       "\t NFS - National Financial Switch & May.16       &  955.18     & Value\\_bn \\\\\n",
       "\t NFS - National Financial Switch & June.16      &  260.99     & Volume\\_mn\\\\\n",
       "\t NFS - National Financial Switch & June.16      &  944.82     & Value\\_bn \\\\\n",
       "\t NFS - National Financial Switch & July.16      &  268.31     & Volume\\_mn\\\\\n",
       "\t NFS - National Financial Switch & July.16      &  960.13     & Value\\_bn \\\\\n",
       "\t NFS - National Financial Switch & August.16    &  269.70     & Volume\\_mn\\\\\n",
       "\t NFS - National Financial Switch & August.16    &  948.48     & Value\\_bn \\\\\n",
       "\t NFS - National Financial Switch & September.16 &  267.24     & Volume\\_mn\\\\\n",
       "\t NFS - National Financial Switch & September.16 &  955.19     & Value\\_bn \\\\\n",
       "\t NFS - National Financial Switch & October.16   &  295.15     & Volume\\_mn\\\\\n",
       "\t NFS - National Financial Switch & October.16   &  1,103.79   & Value\\_bn \\\\\n",
       "\t NFS - National Financial Switch & November.16  &  228.14     & Volume\\_mn\\\\\n",
       "\t NFS - National Financial Switch & November.16  &  572.57     & Value\\_bn \\\\\n",
       "\t NFS - National Financial Switch & December.16  &  259.94     & Volume\\_mn\\\\\n",
       "\t NFS - National Financial Switch & December.16  &  484.20     & Value\\_bn \\\\\n",
       "\t NFS - National Financial Switch & January.17   &  267.70     & Volume\\_mn\\\\\n",
       "\t NFS - National Financial Switch & January.17   &  854.80     & Value\\_bn \\\\\n",
       "\t NFS - National Financial Switch & February.17  &  253.41     & Volume\\_mn\\\\\n",
       "\t NFS - National Financial Switch & February.17  &  999.65     & Value\\_bn \\\\\n",
       "\t NFS - National Financial Switch & March.17     &  273.59     & Volume\\_mn\\\\\n",
       "\t NFS - National Financial Switch & March.17     &  1,085.49   & Value\\_bn \\\\\n",
       "\t NFS - National Financial Switch & F.Y.2016.17  &  3,170.18   & Volume\\_mn\\\\\n",
       "\t NFS - National Financial Switch & F.Y.2016.17  &  10,818.39  & Value\\_bn \\\\\n",
       "\t ⋮ & ⋮ & ⋮ & ⋮\\\\\n",
       "\t NETC  & Dec.20      &  138.41    & Volume\\_mn\\\\\n",
       "\t NETC  & Dec.20      &  23.04     & Value\\_bn \\\\\n",
       "\t NETC  & Jan.21      &  148.56    & Volume\\_mn\\\\\n",
       "\t NETC  & Jan.21      &  23.98     & Value\\_bn \\\\\n",
       "\t NETC  & Feb.21      &  158.96    & Volume\\_mn\\\\\n",
       "\t NETC  & Feb.21      &  25.56     & Value\\_bn \\\\\n",
       "\t NETC  & Mar.21      &  193.21    & Volume\\_mn\\\\\n",
       "\t NETC  & Mar.21      &  30.86     & Value\\_bn \\\\\n",
       "\t NETC  & F.Y.2020.21 &  1,327.28  & Volume\\_mn\\\\\n",
       "\t NETC  & F.Y.2020.21 &  227.62    & Value\\_bn \\\\\n",
       "\t NETC  & Apr.21      &  164.33    & Volume\\_mn\\\\\n",
       "\t NETC  & Apr.21      &  27.77     & Value\\_bn \\\\\n",
       "\t NETC  & May.21      &  116.48    & Volume\\_mn\\\\\n",
       "\t NETC  & May.21      &  21.25     & Value\\_bn \\\\\n",
       "\t NETC  & Jun.21      &  157.86    & Volume\\_mn\\\\\n",
       "\t NETC  & Jun.21      &  25.76     & Value\\_bn \\\\\n",
       "\t NETC  & Jul.21      &  192.33    & Volume\\_mn\\\\\n",
       "\t NETC  & Jul.21      &  29.76     & Value\\_bn \\\\\n",
       "\t NETC  & Aug.21      &  201.20    & Volume\\_mn\\\\\n",
       "\t NETC  & Aug.21      &  30.77     & Value\\_bn \\\\\n",
       "\t NETC  & Sep.21      &  193.61    & Volume\\_mn\\\\\n",
       "\t NETC  & Sep.21      &  30.09     & Value\\_bn \\\\\n",
       "\t NETC  & Oct.21      &  214.23    & Volume\\_mn\\\\\n",
       "\t NETC  & Oct.21      &  33.57     & Value\\_bn \\\\\n",
       "\t NETC  & Nov.21      &  214.13    & Volume\\_mn\\\\\n",
       "\t NETC  & Nov.21      &  31.77     & Value\\_bn \\\\\n",
       "\t NETC  & Dec.21      &  242.07    & Volume\\_mn\\\\\n",
       "\t NETC  & Dec.21      &  36.79     & Value\\_bn \\\\\n",
       "\t NETC  & F.Y.2021.22 &  1,696.25  & Volume\\_mn\\\\\n",
       "\t NETC  & F.Y.2021.22 &  267.54    & Value\\_bn \\\\\n",
       "\\end{tabular}\n"
      ],
      "text/markdown": [
       "\n",
       "A tibble: 3234 × 4\n",
       "\n",
       "| NPCI.Operated.Systems &lt;chr&gt; | year &lt;chr&gt; | Values &lt;chr&gt; | vol_Value &lt;chr&gt; |\n",
       "|---|---|---|---|\n",
       "| NFS - National Financial Switch | F.Y.2014.15  |  2,374.30   | Volume_mn |\n",
       "| NFS - National Financial Switch | F.Y.2014.15  |  8,311.67   | Value_bn  |\n",
       "| NFS - National Financial Switch | F.Y.2015.16  |  2,837.01   | Volume_mn |\n",
       "| NFS - National Financial Switch | F.Y.2015.16  |  9,993.22   | Value_bn  |\n",
       "| NFS - National Financial Switch | Apr.16       |  260.33     | Volume_mn |\n",
       "| NFS - National Financial Switch | Apr.16       |  954.10     | Value_bn  |\n",
       "| NFS - National Financial Switch | May.16       |  265.68     | Volume_mn |\n",
       "| NFS - National Financial Switch | May.16       |  955.18     | Value_bn  |\n",
       "| NFS - National Financial Switch | June.16      |  260.99     | Volume_mn |\n",
       "| NFS - National Financial Switch | June.16      |  944.82     | Value_bn  |\n",
       "| NFS - National Financial Switch | July.16      |  268.31     | Volume_mn |\n",
       "| NFS - National Financial Switch | July.16      |  960.13     | Value_bn  |\n",
       "| NFS - National Financial Switch | August.16    |  269.70     | Volume_mn |\n",
       "| NFS - National Financial Switch | August.16    |  948.48     | Value_bn  |\n",
       "| NFS - National Financial Switch | September.16 |  267.24     | Volume_mn |\n",
       "| NFS - National Financial Switch | September.16 |  955.19     | Value_bn  |\n",
       "| NFS - National Financial Switch | October.16   |  295.15     | Volume_mn |\n",
       "| NFS - National Financial Switch | October.16   |  1,103.79   | Value_bn  |\n",
       "| NFS - National Financial Switch | November.16  |  228.14     | Volume_mn |\n",
       "| NFS - National Financial Switch | November.16  |  572.57     | Value_bn  |\n",
       "| NFS - National Financial Switch | December.16  |  259.94     | Volume_mn |\n",
       "| NFS - National Financial Switch | December.16  |  484.20     | Value_bn  |\n",
       "| NFS - National Financial Switch | January.17   |  267.70     | Volume_mn |\n",
       "| NFS - National Financial Switch | January.17   |  854.80     | Value_bn  |\n",
       "| NFS - National Financial Switch | February.17  |  253.41     | Volume_mn |\n",
       "| NFS - National Financial Switch | February.17  |  999.65     | Value_bn  |\n",
       "| NFS - National Financial Switch | March.17     |  273.59     | Volume_mn |\n",
       "| NFS - National Financial Switch | March.17     |  1,085.49   | Value_bn  |\n",
       "| NFS - National Financial Switch | F.Y.2016.17  |  3,170.18   | Volume_mn |\n",
       "| NFS - National Financial Switch | F.Y.2016.17  |  10,818.39  | Value_bn  |\n",
       "| ⋮ | ⋮ | ⋮ | ⋮ |\n",
       "| NETC  | Dec.20      |  138.41    | Volume_mn |\n",
       "| NETC  | Dec.20      |  23.04     | Value_bn  |\n",
       "| NETC  | Jan.21      |  148.56    | Volume_mn |\n",
       "| NETC  | Jan.21      |  23.98     | Value_bn  |\n",
       "| NETC  | Feb.21      |  158.96    | Volume_mn |\n",
       "| NETC  | Feb.21      |  25.56     | Value_bn  |\n",
       "| NETC  | Mar.21      |  193.21    | Volume_mn |\n",
       "| NETC  | Mar.21      |  30.86     | Value_bn  |\n",
       "| NETC  | F.Y.2020.21 |  1,327.28  | Volume_mn |\n",
       "| NETC  | F.Y.2020.21 |  227.62    | Value_bn  |\n",
       "| NETC  | Apr.21      |  164.33    | Volume_mn |\n",
       "| NETC  | Apr.21      |  27.77     | Value_bn  |\n",
       "| NETC  | May.21      |  116.48    | Volume_mn |\n",
       "| NETC  | May.21      |  21.25     | Value_bn  |\n",
       "| NETC  | Jun.21      |  157.86    | Volume_mn |\n",
       "| NETC  | Jun.21      |  25.76     | Value_bn  |\n",
       "| NETC  | Jul.21      |  192.33    | Volume_mn |\n",
       "| NETC  | Jul.21      |  29.76     | Value_bn  |\n",
       "| NETC  | Aug.21      |  201.20    | Volume_mn |\n",
       "| NETC  | Aug.21      |  30.77     | Value_bn  |\n",
       "| NETC  | Sep.21      |  193.61    | Volume_mn |\n",
       "| NETC  | Sep.21      |  30.09     | Value_bn  |\n",
       "| NETC  | Oct.21      |  214.23    | Volume_mn |\n",
       "| NETC  | Oct.21      |  33.57     | Value_bn  |\n",
       "| NETC  | Nov.21      |  214.13    | Volume_mn |\n",
       "| NETC  | Nov.21      |  31.77     | Value_bn  |\n",
       "| NETC  | Dec.21      |  242.07    | Volume_mn |\n",
       "| NETC  | Dec.21      |  36.79     | Value_bn  |\n",
       "| NETC  | F.Y.2021.22 |  1,696.25  | Volume_mn |\n",
       "| NETC  | F.Y.2021.22 |  267.54    | Value_bn  |\n",
       "\n"
      ],
      "text/plain": [
       "     NPCI.Operated.Systems           year         Values      vol_Value\n",
       "1    NFS - National Financial Switch F.Y.2014.15   2,374.30   Volume_mn\n",
       "2    NFS - National Financial Switch F.Y.2014.15   8,311.67   Value_bn \n",
       "3    NFS - National Financial Switch F.Y.2015.16   2,837.01   Volume_mn\n",
       "4    NFS - National Financial Switch F.Y.2015.16   9,993.22   Value_bn \n",
       "5    NFS - National Financial Switch Apr.16        260.33     Volume_mn\n",
       "6    NFS - National Financial Switch Apr.16        954.10     Value_bn \n",
       "7    NFS - National Financial Switch May.16        265.68     Volume_mn\n",
       "8    NFS - National Financial Switch May.16        955.18     Value_bn \n",
       "9    NFS - National Financial Switch June.16       260.99     Volume_mn\n",
       "10   NFS - National Financial Switch June.16       944.82     Value_bn \n",
       "11   NFS - National Financial Switch July.16       268.31     Volume_mn\n",
       "12   NFS - National Financial Switch July.16       960.13     Value_bn \n",
       "13   NFS - National Financial Switch August.16     269.70     Volume_mn\n",
       "14   NFS - National Financial Switch August.16     948.48     Value_bn \n",
       "15   NFS - National Financial Switch September.16  267.24     Volume_mn\n",
       "16   NFS - National Financial Switch September.16  955.19     Value_bn \n",
       "17   NFS - National Financial Switch October.16    295.15     Volume_mn\n",
       "18   NFS - National Financial Switch October.16    1,103.79   Value_bn \n",
       "19   NFS - National Financial Switch November.16   228.14     Volume_mn\n",
       "20   NFS - National Financial Switch November.16   572.57     Value_bn \n",
       "21   NFS - National Financial Switch December.16   259.94     Volume_mn\n",
       "22   NFS - National Financial Switch December.16   484.20     Value_bn \n",
       "23   NFS - National Financial Switch January.17    267.70     Volume_mn\n",
       "24   NFS - National Financial Switch January.17    854.80     Value_bn \n",
       "25   NFS - National Financial Switch February.17   253.41     Volume_mn\n",
       "26   NFS - National Financial Switch February.17   999.65     Value_bn \n",
       "27   NFS - National Financial Switch March.17      273.59     Volume_mn\n",
       "28   NFS - National Financial Switch March.17      1,085.49   Value_bn \n",
       "29   NFS - National Financial Switch F.Y.2016.17   3,170.18   Volume_mn\n",
       "30   NFS - National Financial Switch F.Y.2016.17   10,818.39  Value_bn \n",
       "⋮    ⋮                               ⋮            ⋮           ⋮        \n",
       "3205 NETC                            Dec.20        138.41     Volume_mn\n",
       "3206 NETC                            Dec.20        23.04      Value_bn \n",
       "3207 NETC                            Jan.21        148.56     Volume_mn\n",
       "3208 NETC                            Jan.21        23.98      Value_bn \n",
       "3209 NETC                            Feb.21        158.96     Volume_mn\n",
       "3210 NETC                            Feb.21        25.56      Value_bn \n",
       "3211 NETC                            Mar.21        193.21     Volume_mn\n",
       "3212 NETC                            Mar.21        30.86      Value_bn \n",
       "3213 NETC                            F.Y.2020.21   1,327.28   Volume_mn\n",
       "3214 NETC                            F.Y.2020.21   227.62     Value_bn \n",
       "3215 NETC                            Apr.21        164.33     Volume_mn\n",
       "3216 NETC                            Apr.21        27.77      Value_bn \n",
       "3217 NETC                            May.21        116.48     Volume_mn\n",
       "3218 NETC                            May.21        21.25      Value_bn \n",
       "3219 NETC                            Jun.21        157.86     Volume_mn\n",
       "3220 NETC                            Jun.21        25.76      Value_bn \n",
       "3221 NETC                            Jul.21        192.33     Volume_mn\n",
       "3222 NETC                            Jul.21        29.76      Value_bn \n",
       "3223 NETC                            Aug.21        201.20     Volume_mn\n",
       "3224 NETC                            Aug.21        30.77      Value_bn \n",
       "3225 NETC                            Sep.21        193.61     Volume_mn\n",
       "3226 NETC                            Sep.21        30.09      Value_bn \n",
       "3227 NETC                            Oct.21        214.23     Volume_mn\n",
       "3228 NETC                            Oct.21        33.57      Value_bn \n",
       "3229 NETC                            Nov.21        214.13     Volume_mn\n",
       "3230 NETC                            Nov.21        31.77      Value_bn \n",
       "3231 NETC                            Dec.21        242.07     Volume_mn\n",
       "3232 NETC                            Dec.21        36.79      Value_bn \n",
       "3233 NETC                            F.Y.2021.22   1,696.25   Volume_mn\n",
       "3234 NETC                            F.Y.2021.22   267.54     Value_bn "
      ]
     },
     "metadata": {},
     "output_type": "display_data"
    }
   ],
   "source": [
    "Retail_pay$vol_Value <- rep(c(\"Volume_mn\", \"Value_bn\"), length.out=nrow(Retail_pay)) # adding column for volume and value information\n",
    "odd_indexes<-seq(1,nrow(Retail_pay),2)\n",
    "even_indexes<-seq(2,nrow(Retail_pay),2)\n",
    "Retail_pay[even_indexes, \"year\"] <-Retail_pay[odd_indexes,\"year\"]# replacing X series with year information\n",
    "Retail_pay"
   ]
  },
  {
   "cell_type": "markdown",
   "id": "4d803635",
   "metadata": {
    "papermill": {
     "duration": 0.067312,
     "end_time": "2022-12-27T09:17:44.269216",
     "exception": false,
     "start_time": "2022-12-27T09:17:44.201904",
     "status": "completed"
    },
    "tags": []
   },
   "source": [
    "Need to spread the vol_Value column into two"
   ]
  },
  {
   "cell_type": "code",
   "execution_count": 5,
   "id": "50c69115",
   "metadata": {
    "execution": {
     "iopub.execute_input": "2022-12-27T09:17:44.410674Z",
     "iopub.status.busy": "2022-12-27T09:17:44.409270Z",
     "iopub.status.idle": "2022-12-27T09:17:44.458156Z",
     "shell.execute_reply": "2022-12-27T09:17:44.456641Z"
    },
    "papermill": {
     "duration": 0.120361,
     "end_time": "2022-12-27T09:17:44.458315",
     "exception": false,
     "start_time": "2022-12-27T09:17:44.337954",
     "status": "completed"
    },
    "tags": [],
    "vscode": {
     "languageId": "r"
    }
   },
   "outputs": [
    {
     "data": {
      "text/html": [
       "<table class=\"dataframe\">\n",
       "<caption>A tibble: 6 × 4</caption>\n",
       "<thead>\n",
       "\t<tr><th scope=col>NPCI.Operated.Systems</th><th scope=col>year</th><th scope=col>Value_bn</th><th scope=col>Volume_mn</th></tr>\n",
       "\t<tr><th scope=col>&lt;chr&gt;</th><th scope=col>&lt;chr&gt;</th><th scope=col>&lt;chr&gt;</th><th scope=col>&lt;chr&gt;</th></tr>\n",
       "</thead>\n",
       "<tbody>\n",
       "\t<tr><td>ACH Credit</td><td>Apr.16</td><td> 297.90   </td><td> 74.53  </td></tr>\n",
       "\t<tr><td>ACH Credit</td><td>Apr.17</td><td> 563.86   </td><td> 75.58  </td></tr>\n",
       "\t<tr><td>ACH Credit</td><td>Apr.18</td><td> 662.02   </td><td> 78.20  </td></tr>\n",
       "\t<tr><td>ACH Credit</td><td>Apr.19</td><td> 776.15   </td><td> 108.27 </td></tr>\n",
       "\t<tr><td>ACH Credit</td><td>Apr.20</td><td> 891.41   </td><td> 258.23 </td></tr>\n",
       "\t<tr><td>ACH Credit</td><td>Apr.21</td><td> 1,004.16 </td><td> 100.56 </td></tr>\n",
       "</tbody>\n",
       "</table>\n"
      ],
      "text/latex": [
       "A tibble: 6 × 4\n",
       "\\begin{tabular}{llll}\n",
       " NPCI.Operated.Systems & year & Value\\_bn & Volume\\_mn\\\\\n",
       " <chr> & <chr> & <chr> & <chr>\\\\\n",
       "\\hline\n",
       "\t ACH Credit & Apr.16 &  297.90    &  74.53  \\\\\n",
       "\t ACH Credit & Apr.17 &  563.86    &  75.58  \\\\\n",
       "\t ACH Credit & Apr.18 &  662.02    &  78.20  \\\\\n",
       "\t ACH Credit & Apr.19 &  776.15    &  108.27 \\\\\n",
       "\t ACH Credit & Apr.20 &  891.41    &  258.23 \\\\\n",
       "\t ACH Credit & Apr.21 &  1,004.16  &  100.56 \\\\\n",
       "\\end{tabular}\n"
      ],
      "text/markdown": [
       "\n",
       "A tibble: 6 × 4\n",
       "\n",
       "| NPCI.Operated.Systems &lt;chr&gt; | year &lt;chr&gt; | Value_bn &lt;chr&gt; | Volume_mn &lt;chr&gt; |\n",
       "|---|---|---|---|\n",
       "| ACH Credit | Apr.16 |  297.90    |  74.53   |\n",
       "| ACH Credit | Apr.17 |  563.86    |  75.58   |\n",
       "| ACH Credit | Apr.18 |  662.02    |  78.20   |\n",
       "| ACH Credit | Apr.19 |  776.15    |  108.27  |\n",
       "| ACH Credit | Apr.20 |  891.41    |  258.23  |\n",
       "| ACH Credit | Apr.21 |  1,004.16  |  100.56  |\n",
       "\n"
      ],
      "text/plain": [
       "  NPCI.Operated.Systems year   Value_bn   Volume_mn\n",
       "1 ACH Credit            Apr.16  297.90     74.53   \n",
       "2 ACH Credit            Apr.17  563.86     75.58   \n",
       "3 ACH Credit            Apr.18  662.02     78.20   \n",
       "4 ACH Credit            Apr.19  776.15     108.27  \n",
       "5 ACH Credit            Apr.20  891.41     258.23  \n",
       "6 ACH Credit            Apr.21  1,004.16   100.56  "
      ]
     },
     "metadata": {},
     "output_type": "display_data"
    },
    {
     "data": {
      "text/html": [
       "<table class=\"dataframe\">\n",
       "<caption>A tibble: 6 × 4</caption>\n",
       "<thead>\n",
       "\t<tr><th scope=col>NPCI.Operated.Systems</th><th scope=col>year</th><th scope=col>Value_bn</th><th scope=col>Volume_mn</th></tr>\n",
       "\t<tr><th scope=col>&lt;chr&gt;</th><th scope=col>&lt;chr&gt;</th><th scope=col>&lt;chr&gt;</th><th scope=col>&lt;chr&gt;</th></tr>\n",
       "</thead>\n",
       "<tbody>\n",
       "\t<tr><td>ACH Credit</td><td>F.Y.2014.15                   </td><td> 52.32     </td><td> 80.83    </td></tr>\n",
       "\t<tr><td>ACH Credit</td><td>F.Y.2015.16                   </td><td> 879.17    </td><td> 508.24   </td></tr>\n",
       "\t<tr><td>ACH Credit</td><td>F.Y.2016.17                   </td><td> 3,844.25  </td><td> 730.73   </td></tr>\n",
       "\t<tr><td>ACH Credit</td><td>F.Y.2017.18..Apr.17.to.Mar.18.</td><td> 5,210.42  </td><td> 703.27   </td></tr>\n",
       "\t<tr><td>ACH Credit</td><td>F.Y.2018.19                   </td><td> 7,296.73  </td><td> 883.43   </td></tr>\n",
       "\t<tr><td>ACH Credit</td><td>F.Y.2019.20                   </td><td> 10,380.40 </td><td> 1,114.96 </td></tr>\n",
       "</tbody>\n",
       "</table>\n"
      ],
      "text/latex": [
       "A tibble: 6 × 4\n",
       "\\begin{tabular}{llll}\n",
       " NPCI.Operated.Systems & year & Value\\_bn & Volume\\_mn\\\\\n",
       " <chr> & <chr> & <chr> & <chr>\\\\\n",
       "\\hline\n",
       "\t ACH Credit & F.Y.2014.15                    &  52.32      &  80.83    \\\\\n",
       "\t ACH Credit & F.Y.2015.16                    &  879.17     &  508.24   \\\\\n",
       "\t ACH Credit & F.Y.2016.17                    &  3,844.25   &  730.73   \\\\\n",
       "\t ACH Credit & F.Y.2017.18..Apr.17.to.Mar.18. &  5,210.42   &  703.27   \\\\\n",
       "\t ACH Credit & F.Y.2018.19                    &  7,296.73   &  883.43   \\\\\n",
       "\t ACH Credit & F.Y.2019.20                    &  10,380.40  &  1,114.96 \\\\\n",
       "\\end{tabular}\n"
      ],
      "text/markdown": [
       "\n",
       "A tibble: 6 × 4\n",
       "\n",
       "| NPCI.Operated.Systems &lt;chr&gt; | year &lt;chr&gt; | Value_bn &lt;chr&gt; | Volume_mn &lt;chr&gt; |\n",
       "|---|---|---|---|\n",
       "| ACH Credit | F.Y.2014.15                    |  52.32      |  80.83     |\n",
       "| ACH Credit | F.Y.2015.16                    |  879.17     |  508.24    |\n",
       "| ACH Credit | F.Y.2016.17                    |  3,844.25   |  730.73    |\n",
       "| ACH Credit | F.Y.2017.18..Apr.17.to.Mar.18. |  5,210.42   |  703.27    |\n",
       "| ACH Credit | F.Y.2018.19                    |  7,296.73   |  883.43    |\n",
       "| ACH Credit | F.Y.2019.20                    |  10,380.40  |  1,114.96  |\n",
       "\n"
      ],
      "text/plain": [
       "  NPCI.Operated.Systems year                           Value_bn    Volume_mn \n",
       "1 ACH Credit            F.Y.2014.15                     52.32       80.83    \n",
       "2 ACH Credit            F.Y.2015.16                     879.17      508.24   \n",
       "3 ACH Credit            F.Y.2016.17                     3,844.25    730.73   \n",
       "4 ACH Credit            F.Y.2017.18..Apr.17.to.Mar.18.  5,210.42    703.27   \n",
       "5 ACH Credit            F.Y.2018.19                     7,296.73    883.43   \n",
       "6 ACH Credit            F.Y.2019.20                     10,380.40   1,114.96 "
      ]
     },
     "metadata": {},
     "output_type": "display_data"
    }
   ],
   "source": [
    "Retail_payment<-spread(Retail_pay,vol_Value,Values)\n",
    "#separating out FY data from month data into a new tibble\n",
    "FYdata<-subset(Retail_payment,(year==\"F.Y.2014.15\"|year==\"F.Y.2015.16\"|\n",
    "                             year==\"F.Y.2016.17\"|year==\"F.Y.2017.18..Apr.17.to.Mar.18.\"|\n",
    "                             year==\"F.Y.2018.19\"|year==\"F.Y.2019.20\"|\n",
    "                             year==\"F.Y.2020.21\"|year==\"F.Y.2021.22\"))\n",
    "head(Retail_payment)\n",
    "head(FYdata)"
   ]
  },
  {
   "cell_type": "markdown",
   "id": "c5793e5c",
   "metadata": {
    "papermill": {
     "duration": 0.073671,
     "end_time": "2022-12-27T09:17:44.605183",
     "exception": false,
     "start_time": "2022-12-27T09:17:44.531512",
     "status": "completed"
    },
    "tags": []
   },
   "source": [
    "All the columns are in character format. Value and Volume need to be numeric, year need to be date."
   ]
  },
  {
   "cell_type": "code",
   "execution_count": 6,
   "id": "5f755f8e",
   "metadata": {
    "execution": {
     "iopub.execute_input": "2022-12-27T09:17:44.758438Z",
     "iopub.status.busy": "2022-12-27T09:17:44.757050Z",
     "iopub.status.idle": "2022-12-27T09:17:44.942929Z",
     "shell.execute_reply": "2022-12-27T09:17:44.941564Z"
    },
    "papermill": {
     "duration": 0.266202,
     "end_time": "2022-12-27T09:17:44.943129",
     "exception": false,
     "start_time": "2022-12-27T09:17:44.676927",
     "status": "completed"
    },
    "tags": [],
    "vscode": {
     "languageId": "r"
    }
   },
   "outputs": [
    {
     "name": "stderr",
     "output_type": "stream",
     "text": [
      "\n",
      "Attaching package: ‘lubridate’\n",
      "\n",
      "\n",
      "The following objects are masked from ‘package:base’:\n",
      "\n",
      "    date, intersect, setdiff, union\n",
      "\n",
      "\n",
      "\n",
      "Attaching package: ‘zoo’\n",
      "\n",
      "\n",
      "The following objects are masked from ‘package:base’:\n",
      "\n",
      "    as.Date, as.Date.numeric\n",
      "\n",
      "\n",
      "Warning message in FUN(X[[i]], ...):\n",
      "“NAs introduced by coercion”\n",
      "Warning message in FUN(X[[i]], ...):\n",
      "“NAs introduced by coercion”\n"
     ]
    },
    {
     "data": {
      "text/html": [
       "<table class=\"dataframe\">\n",
       "<caption>A tibble: 6 × 4</caption>\n",
       "<thead>\n",
       "\t<tr><th scope=col>NPCI.Operated.Systems</th><th scope=col>year</th><th scope=col>Value_bn</th><th scope=col>Volume_mn</th></tr>\n",
       "\t<tr><th scope=col>&lt;chr&gt;</th><th scope=col>&lt;date&gt;</th><th scope=col>&lt;dbl&gt;</th><th scope=col>&lt;dbl&gt;</th></tr>\n",
       "</thead>\n",
       "<tbody>\n",
       "\t<tr><td>ACH Credit</td><td>2016-04-01</td><td> 297.90</td><td> 74.53</td></tr>\n",
       "\t<tr><td>ACH Credit</td><td>2017-04-01</td><td> 563.86</td><td> 75.58</td></tr>\n",
       "\t<tr><td>ACH Credit</td><td>2018-04-01</td><td> 662.02</td><td> 78.20</td></tr>\n",
       "\t<tr><td>ACH Credit</td><td>2019-04-01</td><td> 776.15</td><td>108.27</td></tr>\n",
       "\t<tr><td>ACH Credit</td><td>2020-04-01</td><td> 891.41</td><td>258.23</td></tr>\n",
       "\t<tr><td>ACH Credit</td><td>2021-04-01</td><td>1004.16</td><td>100.56</td></tr>\n",
       "</tbody>\n",
       "</table>\n"
      ],
      "text/latex": [
       "A tibble: 6 × 4\n",
       "\\begin{tabular}{llll}\n",
       " NPCI.Operated.Systems & year & Value\\_bn & Volume\\_mn\\\\\n",
       " <chr> & <date> & <dbl> & <dbl>\\\\\n",
       "\\hline\n",
       "\t ACH Credit & 2016-04-01 &  297.90 &  74.53\\\\\n",
       "\t ACH Credit & 2017-04-01 &  563.86 &  75.58\\\\\n",
       "\t ACH Credit & 2018-04-01 &  662.02 &  78.20\\\\\n",
       "\t ACH Credit & 2019-04-01 &  776.15 & 108.27\\\\\n",
       "\t ACH Credit & 2020-04-01 &  891.41 & 258.23\\\\\n",
       "\t ACH Credit & 2021-04-01 & 1004.16 & 100.56\\\\\n",
       "\\end{tabular}\n"
      ],
      "text/markdown": [
       "\n",
       "A tibble: 6 × 4\n",
       "\n",
       "| NPCI.Operated.Systems &lt;chr&gt; | year &lt;date&gt; | Value_bn &lt;dbl&gt; | Volume_mn &lt;dbl&gt; |\n",
       "|---|---|---|---|\n",
       "| ACH Credit | 2016-04-01 |  297.90 |  74.53 |\n",
       "| ACH Credit | 2017-04-01 |  563.86 |  75.58 |\n",
       "| ACH Credit | 2018-04-01 |  662.02 |  78.20 |\n",
       "| ACH Credit | 2019-04-01 |  776.15 | 108.27 |\n",
       "| ACH Credit | 2020-04-01 |  891.41 | 258.23 |\n",
       "| ACH Credit | 2021-04-01 | 1004.16 | 100.56 |\n",
       "\n"
      ],
      "text/plain": [
       "  NPCI.Operated.Systems year       Value_bn Volume_mn\n",
       "1 ACH Credit            2016-04-01  297.90   74.53   \n",
       "2 ACH Credit            2017-04-01  563.86   75.58   \n",
       "3 ACH Credit            2018-04-01  662.02   78.20   \n",
       "4 ACH Credit            2019-04-01  776.15  108.27   \n",
       "5 ACH Credit            2020-04-01  891.41  258.23   \n",
       "6 ACH Credit            2021-04-01 1004.16  100.56   "
      ]
     },
     "metadata": {},
     "output_type": "display_data"
    },
    {
     "name": "stderr",
     "output_type": "stream",
     "text": [
      "Warning message in FUN(X[[i]], ...):\n",
      "“NAs introduced by coercion”\n",
      "Warning message in FUN(X[[i]], ...):\n",
      "“NAs introduced by coercion”\n"
     ]
    },
    {
     "data": {
      "text/html": [
       "<table class=\"dataframe\">\n",
       "<caption>A tibble: 6 × 4</caption>\n",
       "<thead>\n",
       "\t<tr><th scope=col>NPCI.Operated.Systems</th><th scope=col>year</th><th scope=col>Value_bn</th><th scope=col>Volume_mn</th></tr>\n",
       "\t<tr><th scope=col>&lt;chr&gt;</th><th scope=col>&lt;chr&gt;</th><th scope=col>&lt;dbl&gt;</th><th scope=col>&lt;dbl&gt;</th></tr>\n",
       "</thead>\n",
       "<tbody>\n",
       "\t<tr><td>ACH Credit</td><td>F.Y.2014.15                   </td><td>   52.32</td><td>  80.83</td></tr>\n",
       "\t<tr><td>ACH Credit</td><td>F.Y.2015.16                   </td><td>  879.17</td><td> 508.24</td></tr>\n",
       "\t<tr><td>ACH Credit</td><td>F.Y.2016.17                   </td><td> 3844.25</td><td> 730.73</td></tr>\n",
       "\t<tr><td>ACH Credit</td><td>F.Y.2017.18..Apr.17.to.Mar.18.</td><td> 5210.42</td><td> 703.27</td></tr>\n",
       "\t<tr><td>ACH Credit</td><td>F.Y.2018.19                   </td><td> 7296.73</td><td> 883.43</td></tr>\n",
       "\t<tr><td>ACH Credit</td><td>F.Y.2019.20                   </td><td>10380.40</td><td>1114.96</td></tr>\n",
       "</tbody>\n",
       "</table>\n"
      ],
      "text/latex": [
       "A tibble: 6 × 4\n",
       "\\begin{tabular}{llll}\n",
       " NPCI.Operated.Systems & year & Value\\_bn & Volume\\_mn\\\\\n",
       " <chr> & <chr> & <dbl> & <dbl>\\\\\n",
       "\\hline\n",
       "\t ACH Credit & F.Y.2014.15                    &    52.32 &   80.83\\\\\n",
       "\t ACH Credit & F.Y.2015.16                    &   879.17 &  508.24\\\\\n",
       "\t ACH Credit & F.Y.2016.17                    &  3844.25 &  730.73\\\\\n",
       "\t ACH Credit & F.Y.2017.18..Apr.17.to.Mar.18. &  5210.42 &  703.27\\\\\n",
       "\t ACH Credit & F.Y.2018.19                    &  7296.73 &  883.43\\\\\n",
       "\t ACH Credit & F.Y.2019.20                    & 10380.40 & 1114.96\\\\\n",
       "\\end{tabular}\n"
      ],
      "text/markdown": [
       "\n",
       "A tibble: 6 × 4\n",
       "\n",
       "| NPCI.Operated.Systems &lt;chr&gt; | year &lt;chr&gt; | Value_bn &lt;dbl&gt; | Volume_mn &lt;dbl&gt; |\n",
       "|---|---|---|---|\n",
       "| ACH Credit | F.Y.2014.15                    |    52.32 |   80.83 |\n",
       "| ACH Credit | F.Y.2015.16                    |   879.17 |  508.24 |\n",
       "| ACH Credit | F.Y.2016.17                    |  3844.25 |  730.73 |\n",
       "| ACH Credit | F.Y.2017.18..Apr.17.to.Mar.18. |  5210.42 |  703.27 |\n",
       "| ACH Credit | F.Y.2018.19                    |  7296.73 |  883.43 |\n",
       "| ACH Credit | F.Y.2019.20                    | 10380.40 | 1114.96 |\n",
       "\n"
      ],
      "text/plain": [
       "  NPCI.Operated.Systems year                           Value_bn Volume_mn\n",
       "1 ACH Credit            F.Y.2014.15                       52.32   80.83  \n",
       "2 ACH Credit            F.Y.2015.16                      879.17  508.24  \n",
       "3 ACH Credit            F.Y.2016.17                     3844.25  730.73  \n",
       "4 ACH Credit            F.Y.2017.18..Apr.17.to.Mar.18.  5210.42  703.27  \n",
       "5 ACH Credit            F.Y.2018.19                     7296.73  883.43  \n",
       "6 ACH Credit            F.Y.2019.20                    10380.40 1114.96  "
      ]
     },
     "metadata": {},
     "output_type": "display_data"
    }
   ],
   "source": [
    "library(lubridate)\n",
    "library(zoo)\n",
    "Retail_payment$year<-as.Date(as.yearmon(Retail_payment$year,\"%b.%y\"))#converting the dates \n",
    "#from original format to date format\n",
    "Retail_payment<-na.omit(Retail_payment)# omitting rows if there are any NA in dates\n",
    "#changing 3rd and 4th columns to numeric\n",
    "Retail_payment[,3:4]<-lapply(Retail_payment[,3:4],\n",
    "                             function(x){as.numeric(gsub(\",\", \"\", x))})\n",
    "Retail_payment[is.na(Retail_payment)]=0 # replacing NA by 0 as there are no \n",
    "#transactions for that category on that date\n",
    "head(Retail_payment)\n",
    "\n",
    "FYdata[,3:4]<-lapply(FYdata[,3:4],\n",
    "                             function(x){as.numeric(gsub(\",\", \"\", x))})\n",
    "FYdata[is.na(FYdata)]=0 # replacing NA by 0 as there are no \n",
    "#transactions for that category on that date\n",
    "head(FYdata)"
   ]
  },
  {
   "cell_type": "markdown",
   "id": "b8196248",
   "metadata": {
    "papermill": {
     "duration": 0.084612,
     "end_time": "2022-12-27T09:17:45.113534",
     "exception": false,
     "start_time": "2022-12-27T09:17:45.028922",
     "status": "completed"
    },
    "tags": []
   },
   "source": [
    "Need to change or simplify the NPCI.operated.System names"
   ]
  },
  {
   "cell_type": "code",
   "execution_count": 7,
   "id": "4315a137",
   "metadata": {
    "execution": {
     "iopub.execute_input": "2022-12-27T09:17:45.297818Z",
     "iopub.status.busy": "2022-12-27T09:17:45.288409Z",
     "iopub.status.idle": "2022-12-27T09:17:45.447564Z",
     "shell.execute_reply": "2022-12-27T09:17:45.445664Z"
    },
    "papermill": {
     "duration": 0.249956,
     "end_time": "2022-12-27T09:17:45.447727",
     "exception": false,
     "start_time": "2022-12-27T09:17:45.197771",
     "status": "completed"
    },
    "tags": [],
    "vscode": {
     "languageId": "r"
    }
   },
   "outputs": [
    {
     "data": {
      "text/html": [
       "<style>\n",
       ".list-inline {list-style: none; margin:0; padding: 0}\n",
       ".list-inline>li {display: inline-block}\n",
       ".list-inline>li:not(:last-child)::after {content: \"\\00b7\"; padding: 0 .5ex}\n",
       "</style>\n",
       "<ol class=list-inline><li>'ACH Credit'</li><li>'ACH Debit'</li><li>'AEPS_interbank'</li><li>'APBS_credit'</li><li>'BBPS_BBPCU'</li><li>'BHIM'</li><li>'CTS_chq_clrng'</li><li>'IMPS '</li><li>'NACH Credit'</li><li>'NACH Debit'</li><li>'NACH'</li><li>'NETC '</li><li>'NFS_ATM_wdrwl'</li><li>'NFS_cash_dpst'</li><li>'NFS'</li><li>'Rupay_ecom'</li><li>'Rupay_POS'</li><li>'UPI'</li><li>'UPI_ex_bhim_USSD'</li><li>'USSD 1.0'</li><li>'USSD 2.0'</li></ol>\n"
      ],
      "text/latex": [
       "\\begin{enumerate*}\n",
       "\\item 'ACH Credit'\n",
       "\\item 'ACH Debit'\n",
       "\\item 'AEPS\\_interbank'\n",
       "\\item 'APBS\\_credit'\n",
       "\\item 'BBPS\\_BBPCU'\n",
       "\\item 'BHIM'\n",
       "\\item 'CTS\\_chq\\_clrng'\n",
       "\\item 'IMPS '\n",
       "\\item 'NACH Credit'\n",
       "\\item 'NACH Debit'\n",
       "\\item 'NACH'\n",
       "\\item 'NETC '\n",
       "\\item 'NFS\\_ATM\\_wdrwl'\n",
       "\\item 'NFS\\_cash\\_dpst'\n",
       "\\item 'NFS'\n",
       "\\item 'Rupay\\_ecom'\n",
       "\\item 'Rupay\\_POS'\n",
       "\\item 'UPI'\n",
       "\\item 'UPI\\_ex\\_bhim\\_USSD'\n",
       "\\item 'USSD 1.0'\n",
       "\\item 'USSD 2.0'\n",
       "\\end{enumerate*}\n"
      ],
      "text/markdown": [
       "1. 'ACH Credit'\n",
       "2. 'ACH Debit'\n",
       "3. 'AEPS_interbank'\n",
       "4. 'APBS_credit'\n",
       "5. 'BBPS_BBPCU'\n",
       "6. 'BHIM'\n",
       "7. 'CTS_chq_clrng'\n",
       "8. 'IMPS '\n",
       "9. 'NACH Credit'\n",
       "10. 'NACH Debit'\n",
       "11. 'NACH'\n",
       "12. 'NETC '\n",
       "13. 'NFS_ATM_wdrwl'\n",
       "14. 'NFS_cash_dpst'\n",
       "15. 'NFS'\n",
       "16. 'Rupay_ecom'\n",
       "17. 'Rupay_POS'\n",
       "18. 'UPI'\n",
       "19. 'UPI_ex_bhim_USSD'\n",
       "20. 'USSD 1.0'\n",
       "21. 'USSD 2.0'\n",
       "\n",
       "\n"
      ],
      "text/plain": [
       " [1] \"ACH Credit\"       \"ACH Debit\"        \"AEPS_interbank\"   \"APBS_credit\"     \n",
       " [5] \"BBPS_BBPCU\"       \"BHIM\"             \"CTS_chq_clrng\"    \"IMPS \"           \n",
       " [9] \"NACH Credit\"      \"NACH Debit\"       \"NACH\"             \"NETC \"           \n",
       "[13] \"NFS_ATM_wdrwl\"    \"NFS_cash_dpst\"    \"NFS\"              \"Rupay_ecom\"      \n",
       "[17] \"Rupay_POS\"        \"UPI\"              \"UPI_ex_bhim_USSD\" \"USSD 1.0\"        \n",
       "[21] \"USSD 2.0\"        "
      ]
     },
     "metadata": {},
     "output_type": "display_data"
    }
   ],
   "source": [
    "#Shortening the names of retail payment methods\n",
    "library(stringr)\n",
    "Retail_payment$NPCI.Operated.Systems<-str_replace(Retail_payment$NPCI.Operated.Systems,\n",
    "                                                 \".*Inter Bank.*\",\"AEPS_interbank\")\n",
    "Retail_payment$NPCI.Operated.Systems<-str_replace(Retail_payment$NPCI.Operated.Systems,\n",
    "                                                 \".*APBS.*\",\"APBS_credit\")\n",
    "Retail_payment$NPCI.Operated.Systems<-str_replace(Retail_payment$NPCI.Operated.Systems,\n",
    "                                                 \".*BBPS.*\",\"BBPS_BBPCU\")\n",
    "Retail_payment$NPCI.Operated.Systems<-str_replace(Retail_payment$NPCI.Operated.Systems,\n",
    "                                                 \".*Cheque.*\",\"CTS_chq_clrng\")\n",
    "Retail_payment$NPCI.Operated.Systems<-str_replace(Retail_payment$NPCI.Operated.Systems,\n",
    "                                                 \".*Automated.*\",\"NACH\")\n",
    "Retail_payment$NPCI.Operated.Systems<-str_replace(Retail_payment$NPCI.Operated.Systems,\n",
    "                                                 \".*ATM.*\",\"NFS_ATM_wdrwl\")\n",
    "Retail_payment$NPCI.Operated.Systems<-str_replace(Retail_payment$NPCI.Operated.Systems,\n",
    "                                                 \".*deposit.*\",\"NFS_cash_dpst\")\n",
    "Retail_payment$NPCI.Operated.Systems<-str_replace(Retail_payment$NPCI.Operated.Systems,\n",
    "                                                 \".*National.*\",\"NFS\")\n",
    "Retail_payment$NPCI.Operated.Systems<-str_replace(Retail_payment$NPCI.Operated.Systems,\n",
    "                                                 \".*eCom.*\",\"Rupay_ecom\")\n",
    "Retail_payment$NPCI.Operated.Systems<-str_replace(Retail_payment$NPCI.Operated.Systems,\n",
    "                                                 \".*POS.*\",\"Rupay_POS\")\n",
    "Retail_payment$NPCI.Operated.Systems<-str_replace(Retail_payment$NPCI.Operated.Systems,\n",
    "                                                 \".*Unified.*\",\"UPI\")\n",
    "Retail_payment$NPCI.Operated.Systems<-str_replace(Retail_payment$NPCI.Operated.Systems,\n",
    "                                                 \".*excluding.*\",\"UPI_ex_bhim_USSD\")\n",
    "unique(Retail_payment$NPCI.Operated.Systems)"
   ]
  },
  {
   "cell_type": "markdown",
   "id": "f12b931b",
   "metadata": {
    "papermill": {
     "duration": 0.087139,
     "end_time": "2022-12-27T09:17:45.622123",
     "exception": false,
     "start_time": "2022-12-27T09:17:45.534984",
     "status": "completed"
    },
    "tags": []
   },
   "source": [
    "From original file, it is evident that some of the payment methods are sub categories of main methods. e.g. NACH has five sub categories and NFS has two subcategories. Hence plotting the graphs again with only main retail digital payment methods excludng the subcategories."
   ]
  },
  {
   "cell_type": "code",
   "execution_count": 8,
   "id": "ab804261",
   "metadata": {
    "execution": {
     "iopub.execute_input": "2022-12-27T09:17:45.804670Z",
     "iopub.status.busy": "2022-12-27T09:17:45.802476Z",
     "iopub.status.idle": "2022-12-27T09:17:45.825688Z",
     "shell.execute_reply": "2022-12-27T09:17:45.823919Z"
    },
    "papermill": {
     "duration": 0.115247,
     "end_time": "2022-12-27T09:17:45.825850",
     "exception": false,
     "start_time": "2022-12-27T09:17:45.710603",
     "status": "completed"
    },
    "tags": [],
    "vscode": {
     "languageId": "r"
    }
   },
   "outputs": [
    {
     "data": {
      "text/html": [
       "<style>\n",
       ".list-inline {list-style: none; margin:0; padding: 0}\n",
       ".list-inline>li {display: inline-block}\n",
       ".list-inline>li:not(:last-child)::after {content: \"\\00b7\"; padding: 0 .5ex}\n",
       "</style>\n",
       "<ol class=list-inline><li>'AEPS_interbank'</li><li>'APBS_credit'</li><li>'BBPS_BBPCU'</li><li>'CTS_chq_clrng'</li><li>'IMPS '</li><li>'NACH'</li><li>'NFS'</li><li>'Rupay_ecom'</li><li>'Rupay_POS'</li><li>'UPI'</li></ol>\n"
      ],
      "text/latex": [
       "\\begin{enumerate*}\n",
       "\\item 'AEPS\\_interbank'\n",
       "\\item 'APBS\\_credit'\n",
       "\\item 'BBPS\\_BBPCU'\n",
       "\\item 'CTS\\_chq\\_clrng'\n",
       "\\item 'IMPS '\n",
       "\\item 'NACH'\n",
       "\\item 'NFS'\n",
       "\\item 'Rupay\\_ecom'\n",
       "\\item 'Rupay\\_POS'\n",
       "\\item 'UPI'\n",
       "\\end{enumerate*}\n"
      ],
      "text/markdown": [
       "1. 'AEPS_interbank'\n",
       "2. 'APBS_credit'\n",
       "3. 'BBPS_BBPCU'\n",
       "4. 'CTS_chq_clrng'\n",
       "5. 'IMPS '\n",
       "6. 'NACH'\n",
       "7. 'NFS'\n",
       "8. 'Rupay_ecom'\n",
       "9. 'Rupay_POS'\n",
       "10. 'UPI'\n",
       "\n",
       "\n"
      ],
      "text/plain": [
       " [1] \"AEPS_interbank\" \"APBS_credit\"    \"BBPS_BBPCU\"     \"CTS_chq_clrng\" \n",
       " [5] \"IMPS \"          \"NACH\"           \"NFS\"            \"Rupay_ecom\"    \n",
       " [9] \"Rupay_POS\"      \"UPI\"           "
      ]
     },
     "metadata": {},
     "output_type": "display_data"
    }
   ],
   "source": [
    "select<-c(\"NFS\",\"NACH\",\"CTS_chq_clrng\",\"IMPS \",\"Rupay_POS\",\"Rupay_ecom\",\"UPI\",\"AEPS_interbank\",\"APBS_credit\",\"BBPS_BBPCU\")\n",
    "Retail_payment_main<-Retail_payment[Retail_payment$NPCI.Operated.Systems %in% select,]\n",
    "unique(Retail_payment_main$NPCI.Operated.Systems)"
   ]
  },
  {
   "cell_type": "code",
   "execution_count": 9,
   "id": "962c736a",
   "metadata": {
    "execution": {
     "iopub.execute_input": "2022-12-27T09:17:46.012506Z",
     "iopub.status.busy": "2022-12-27T09:17:46.011069Z",
     "iopub.status.idle": "2022-12-27T09:17:47.348840Z",
     "shell.execute_reply": "2022-12-27T09:17:47.348193Z"
    },
    "papermill": {
     "duration": 1.432537,
     "end_time": "2022-12-27T09:17:47.349021",
     "exception": false,
     "start_time": "2022-12-27T09:17:45.916484",
     "status": "completed"
    },
    "tags": [],
    "vscode": {
     "languageId": "r"
    }
   },
   "outputs": [
    {
     "data": {
      "image/png": "[encoded data removed]"
     },
     "metadata": {
      "image/png": {
       "height": 420,
       "width": 420
      }
     },
     "output_type": "display_data"
    },
    {
     "data": {
      "image/png": "[encoded data removed]"
     },
     "metadata": {
      "image/png": {
       "height": 420,
       "width": 420
      }
     },
     "output_type": "display_data"
    }
   ],
   "source": [
    "\n",
    "library(ggplot2)\n",
    "\n",
    "plot<-ggplot(data=Retail_payment_main,aes(year,Value_bn,colour=NPCI.Operated.Systems))\n",
    "plot+geom_line()+geom_vline(aes(xintercept=as.numeric(as.Date(\"2020-03-24\"))),linetype=4,col=\"red\")+\n",
    "  geom_vline(aes(xintercept=as.numeric(as.Date(\"2021-05-01\"))),linetype=4,col=\"red\")+\n",
    "theme(legend.position=\"bottom\")\n",
    "\n",
    "plot<-ggplot(data=Retail_payment_main,aes(year,Volume_mn,colour=NPCI.Operated.Systems))\n",
    "plot+geom_line()+geom_vline(aes(xintercept=as.numeric(as.Date(\"2020-03-24\"))),linetype=4,col=\"red\")+\n",
    "  geom_vline(aes(xintercept=as.numeric(as.Date(\"2021-05-01\"))),linetype=4,col=\"red\")+\n",
    "theme(legend.position=\"bottom\")"
   ]
  },
  {
   "cell_type": "markdown",
   "id": "29d6ef57",
   "metadata": {
    "papermill": {
     "duration": 0.101194,
     "end_time": "2022-12-27T09:17:47.551754",
     "exception": false,
     "start_time": "2022-12-27T09:17:47.450560",
     "status": "completed"
    },
    "tags": []
   },
   "source": [
    "**Conclusion**\n",
    "\n",
    "UPI which was launched in 2016 has picked up very fast and become the largest retail digital payment methods by volume as well as Value.Cheques, IMPS and NACH transactions were left far behind in terms of Volume. UPI surpassed Cheques, IMPS and NACH in May 2021 by Value as well. UPI is a true retail method with good penetration into untapped market. This also tells that there is still untapped market potential for digital retail transactions. In India, most of the retail transactions are still in Cash. UPI is changing that. Covid 1st wave lockdown (Apr 2020) and Covid 2nd wave impact are clearly seen with vertical dotted red lines.\n",
    "\n",
    "The cheque transactions are high value transactions compared to other methods."
   ]
  },
  {
   "cell_type": "markdown",
   "id": "cbb33fe3",
   "metadata": {
    "papermill": {
     "duration": 0.099459,
     "end_time": "2022-12-27T09:17:47.749711",
     "exception": false,
     "start_time": "2022-12-27T09:17:47.650252",
     "status": "completed"
    },
    "tags": []
   },
   "source": [
    "Now a look at retail transaction volume and value for financial year.\n",
    "\n",
    "The FYdata subset which was prepared earlier is used here"
   ]
  },
  {
   "cell_type": "code",
   "execution_count": 10,
   "id": "58886283",
   "metadata": {
    "execution": {
     "iopub.execute_input": "2022-12-27T09:17:47.955342Z",
     "iopub.status.busy": "2022-12-27T09:17:47.953597Z",
     "iopub.status.idle": "2022-12-27T09:17:48.043338Z",
     "shell.execute_reply": "2022-12-27T09:17:48.042074Z"
    },
    "papermill": {
     "duration": 0.192713,
     "end_time": "2022-12-27T09:17:48.043489",
     "exception": false,
     "start_time": "2022-12-27T09:17:47.850776",
     "status": "completed"
    },
    "tags": [],
    "vscode": {
     "languageId": "r"
    }
   },
   "outputs": [
    {
     "name": "stdout",
     "output_type": "stream",
     "text": [
      "tibble [168 × 4] (S3: tbl_df/tbl/data.frame)\n",
      " $ NPCI.Operated.Systems: chr [1:168] \"ACH Credit\" \"ACH Credit\" \"ACH Credit\" \"ACH Credit\" ...\n",
      " $ year                 : chr [1:168] \"F.Y.2014.15\" \"F.Y.2015.16\" \"F.Y.2016.17\" \"F.Y.2017.18..Apr.17.to.Mar.18.\" ...\n",
      " $ Value_bn             : num [1:168] 52.3 879.2 3844.2 5210.4 7296.7 ...\n",
      " $ Volume_mn            : num [1:168] 80.8 508.2 730.7 703.3 883.4 ...\n"
     ]
    },
    {
     "data": {
      "text/html": [
       "<style>\n",
       ".list-inline {list-style: none; margin:0; padding: 0}\n",
       ".list-inline>li {display: inline-block}\n",
       ".list-inline>li:not(:last-child)::after {content: \"\\00b7\"; padding: 0 .5ex}\n",
       "</style>\n",
       "<ol class=list-inline><li>ACH Credit</li><li>ACH Debit</li><li>AEPS_interbank</li><li>APBS_credit</li><li>BBPS_BBPCU</li><li>BHIM</li><li>CTS_chq_clrng</li><li>IMPS</li><li>NACH Credit</li><li>NACH Debit</li><li>NACH</li><li>NETC </li><li>NFS_ATM_wdrwl</li><li>NFS_cash_dpst</li><li>NFS</li><li>Rupay_ecom</li><li>Rupay_POS</li><li>UPI</li><li>UPI_ex_bhim_USSD</li><li>USSD 1.0</li><li>USSD 2.0</li></ol>\n",
       "\n",
       "<details>\n",
       "\t<summary style=display:list-item;cursor:pointer>\n",
       "\t\t<strong>Levels</strong>:\n",
       "\t</summary>\n",
       "\t<style>\n",
       "\t.list-inline {list-style: none; margin:0; padding: 0}\n",
       "\t.list-inline>li {display: inline-block}\n",
       "\t.list-inline>li:not(:last-child)::after {content: \"\\00b7\"; padding: 0 .5ex}\n",
       "\t</style>\n",
       "\t<ol class=list-inline><li>'ACH Credit'</li><li>'ACH Debit'</li><li>'AEPS_interbank'</li><li>'APBS_credit'</li><li>'BBPS_BBPCU'</li><li>'BHIM'</li><li>'CTS_chq_clrng'</li><li>'IMPS'</li><li>'NACH'</li><li>'NACH Credit'</li><li>'NACH Debit'</li><li>'NETC '</li><li>'NFS'</li><li>'NFS_ATM_wdrwl'</li><li>'NFS_cash_dpst'</li><li>'Rupay_ecom'</li><li>'Rupay_POS'</li><li>'UPI'</li><li>'UPI_ex_bhim_USSD'</li><li>'USSD 1.0'</li><li>'USSD 2.0'</li></ol>\n",
       "</details>"
      ],
      "text/latex": [
       "\\begin{enumerate*}\n",
       "\\item ACH Credit\n",
       "\\item ACH Debit\n",
       "\\item AEPS\\_interbank\n",
       "\\item APBS\\_credit\n",
       "\\item BBPS\\_BBPCU\n",
       "\\item BHIM\n",
       "\\item CTS\\_chq\\_clrng\n",
       "\\item IMPS\n",
       "\\item NACH Credit\n",
       "\\item NACH Debit\n",
       "\\item NACH\n",
       "\\item NETC \n",
       "\\item NFS\\_ATM\\_wdrwl\n",
       "\\item NFS\\_cash\\_dpst\n",
       "\\item NFS\n",
       "\\item Rupay\\_ecom\n",
       "\\item Rupay\\_POS\n",
       "\\item UPI\n",
       "\\item UPI\\_ex\\_bhim\\_USSD\n",
       "\\item USSD 1.0\n",
       "\\item USSD 2.0\n",
       "\\end{enumerate*}\n",
       "\n",
       "\\emph{Levels}: \\begin{enumerate*}\n",
       "\\item 'ACH Credit'\n",
       "\\item 'ACH Debit'\n",
       "\\item 'AEPS\\_interbank'\n",
       "\\item 'APBS\\_credit'\n",
       "\\item 'BBPS\\_BBPCU'\n",
       "\\item 'BHIM'\n",
       "\\item 'CTS\\_chq\\_clrng'\n",
       "\\item 'IMPS'\n",
       "\\item 'NACH'\n",
       "\\item 'NACH Credit'\n",
       "\\item 'NACH Debit'\n",
       "\\item 'NETC '\n",
       "\\item 'NFS'\n",
       "\\item 'NFS\\_ATM\\_wdrwl'\n",
       "\\item 'NFS\\_cash\\_dpst'\n",
       "\\item 'Rupay\\_ecom'\n",
       "\\item 'Rupay\\_POS'\n",
       "\\item 'UPI'\n",
       "\\item 'UPI\\_ex\\_bhim\\_USSD'\n",
       "\\item 'USSD 1.0'\n",
       "\\item 'USSD 2.0'\n",
       "\\end{enumerate*}\n"
      ],
      "text/markdown": [
       "1. ACH Credit\n",
       "2. ACH Debit\n",
       "3. AEPS_interbank\n",
       "4. APBS_credit\n",
       "5. BBPS_BBPCU\n",
       "6. BHIM\n",
       "7. CTS_chq_clrng\n",
       "8. IMPS\n",
       "9. NACH Credit\n",
       "10. NACH Debit\n",
       "11. NACH\n",
       "12. NETC \n",
       "13. NFS_ATM_wdrwl\n",
       "14. NFS_cash_dpst\n",
       "15. NFS\n",
       "16. Rupay_ecom\n",
       "17. Rupay_POS\n",
       "18. UPI\n",
       "19. UPI_ex_bhim_USSD\n",
       "20. USSD 1.0\n",
       "21. USSD 2.0\n",
       "\n",
       "\n",
       "\n",
       "**Levels**: 1. 'ACH Credit'\n",
       "2. 'ACH Debit'\n",
       "3. 'AEPS_interbank'\n",
       "4. 'APBS_credit'\n",
       "5. 'BBPS_BBPCU'\n",
       "6. 'BHIM'\n",
       "7. 'CTS_chq_clrng'\n",
       "8. 'IMPS'\n",
       "9. 'NACH'\n",
       "10. 'NACH Credit'\n",
       "11. 'NACH Debit'\n",
       "12. 'NETC '\n",
       "13. 'NFS'\n",
       "14. 'NFS_ATM_wdrwl'\n",
       "15. 'NFS_cash_dpst'\n",
       "16. 'Rupay_ecom'\n",
       "17. 'Rupay_POS'\n",
       "18. 'UPI'\n",
       "19. 'UPI_ex_bhim_USSD'\n",
       "20. 'USSD 1.0'\n",
       "21. 'USSD 2.0'\n",
       "\n",
       "\n"
      ],
      "text/plain": [
       " [1] ACH Credit       ACH Debit        AEPS_interbank   APBS_credit     \n",
       " [5] BBPS_BBPCU       BHIM             CTS_chq_clrng    IMPS            \n",
       " [9] NACH Credit      NACH Debit       NACH             NETC            \n",
       "[13] NFS_ATM_wdrwl    NFS_cash_dpst    NFS              Rupay_ecom      \n",
       "[17] Rupay_POS        UPI              UPI_ex_bhim_USSD USSD 1.0        \n",
       "[21] USSD 2.0        \n",
       "21 Levels: ACH Credit ACH Debit AEPS_interbank APBS_credit BBPS_BBPCU ... USSD 2.0"
      ]
     },
     "metadata": {},
     "output_type": "display_data"
    },
    {
     "data": {
      "text/html": [
       "<style>\n",
       ".list-inline {list-style: none; margin:0; padding: 0}\n",
       ".list-inline>li {display: inline-block}\n",
       ".list-inline>li:not(:last-child)::after {content: \"\\00b7\"; padding: 0 .5ex}\n",
       "</style>\n",
       "<ol class=list-inline><li>AEPS_interbank</li><li>APBS_credit</li><li>BBPS_BBPCU</li><li>CTS_chq_clrng</li><li>IMPS</li><li>NACH</li><li>NFS</li><li>Rupay_ecom</li><li>Rupay_POS</li><li>UPI</li></ol>\n",
       "\n",
       "<details>\n",
       "\t<summary style=display:list-item;cursor:pointer>\n",
       "\t\t<strong>Levels</strong>:\n",
       "\t</summary>\n",
       "\t<style>\n",
       "\t.list-inline {list-style: none; margin:0; padding: 0}\n",
       "\t.list-inline>li {display: inline-block}\n",
       "\t.list-inline>li:not(:last-child)::after {content: \"\\00b7\"; padding: 0 .5ex}\n",
       "\t</style>\n",
       "\t<ol class=list-inline><li>'ACH Credit'</li><li>'ACH Debit'</li><li>'AEPS_interbank'</li><li>'APBS_credit'</li><li>'BBPS_BBPCU'</li><li>'BHIM'</li><li>'CTS_chq_clrng'</li><li>'IMPS'</li><li>'NACH'</li><li>'NACH Credit'</li><li>'NACH Debit'</li><li>'NETC '</li><li>'NFS'</li><li>'NFS_ATM_wdrwl'</li><li>'NFS_cash_dpst'</li><li>'Rupay_ecom'</li><li>'Rupay_POS'</li><li>'UPI'</li><li>'UPI_ex_bhim_USSD'</li><li>'USSD 1.0'</li><li>'USSD 2.0'</li></ol>\n",
       "</details>"
      ],
      "text/latex": [
       "\\begin{enumerate*}\n",
       "\\item AEPS\\_interbank\n",
       "\\item APBS\\_credit\n",
       "\\item BBPS\\_BBPCU\n",
       "\\item CTS\\_chq\\_clrng\n",
       "\\item IMPS\n",
       "\\item NACH\n",
       "\\item NFS\n",
       "\\item Rupay\\_ecom\n",
       "\\item Rupay\\_POS\n",
       "\\item UPI\n",
       "\\end{enumerate*}\n",
       "\n",
       "\\emph{Levels}: \\begin{enumerate*}\n",
       "\\item 'ACH Credit'\n",
       "\\item 'ACH Debit'\n",
       "\\item 'AEPS\\_interbank'\n",
       "\\item 'APBS\\_credit'\n",
       "\\item 'BBPS\\_BBPCU'\n",
       "\\item 'BHIM'\n",
       "\\item 'CTS\\_chq\\_clrng'\n",
       "\\item 'IMPS'\n",
       "\\item 'NACH'\n",
       "\\item 'NACH Credit'\n",
       "\\item 'NACH Debit'\n",
       "\\item 'NETC '\n",
       "\\item 'NFS'\n",
       "\\item 'NFS\\_ATM\\_wdrwl'\n",
       "\\item 'NFS\\_cash\\_dpst'\n",
       "\\item 'Rupay\\_ecom'\n",
       "\\item 'Rupay\\_POS'\n",
       "\\item 'UPI'\n",
       "\\item 'UPI\\_ex\\_bhim\\_USSD'\n",
       "\\item 'USSD 1.0'\n",
       "\\item 'USSD 2.0'\n",
       "\\end{enumerate*}\n"
      ],
      "text/markdown": [
       "1. AEPS_interbank\n",
       "2. APBS_credit\n",
       "3. BBPS_BBPCU\n",
       "4. CTS_chq_clrng\n",
       "5. IMPS\n",
       "6. NACH\n",
       "7. NFS\n",
       "8. Rupay_ecom\n",
       "9. Rupay_POS\n",
       "10. UPI\n",
       "\n",
       "\n",
       "\n",
       "**Levels**: 1. 'ACH Credit'\n",
       "2. 'ACH Debit'\n",
       "3. 'AEPS_interbank'\n",
       "4. 'APBS_credit'\n",
       "5. 'BBPS_BBPCU'\n",
       "6. 'BHIM'\n",
       "7. 'CTS_chq_clrng'\n",
       "8. 'IMPS'\n",
       "9. 'NACH'\n",
       "10. 'NACH Credit'\n",
       "11. 'NACH Debit'\n",
       "12. 'NETC '\n",
       "13. 'NFS'\n",
       "14. 'NFS_ATM_wdrwl'\n",
       "15. 'NFS_cash_dpst'\n",
       "16. 'Rupay_ecom'\n",
       "17. 'Rupay_POS'\n",
       "18. 'UPI'\n",
       "19. 'UPI_ex_bhim_USSD'\n",
       "20. 'USSD 1.0'\n",
       "21. 'USSD 2.0'\n",
       "\n",
       "\n"
      ],
      "text/plain": [
       " [1] AEPS_interbank APBS_credit    BBPS_BBPCU     CTS_chq_clrng  IMPS          \n",
       " [6] NACH           NFS            Rupay_ecom     Rupay_POS      UPI           \n",
       "21 Levels: ACH Credit ACH Debit AEPS_interbank APBS_credit BBPS_BBPCU ... USSD 2.0"
      ]
     },
     "metadata": {},
     "output_type": "display_data"
    }
   ],
   "source": [
    "str(FYdata)\n",
    "FYdata$NPCI.Operated.Systems<-str_replace(FYdata$NPCI.Operated.Systems,\n",
    "                                                 \".*Inter Bank.*\",\"AEPS_interbank\")\n",
    "FYdata$NPCI.Operated.Systems<-str_replace(FYdata$NPCI.Operated.Systems,\n",
    "                                                 \".*APBS.*\",\"APBS_credit\")\n",
    "FYdata$NPCI.Operated.Systems<-str_replace(FYdata$NPCI.Operated.Systems,\n",
    "                                                 \".*BBPS.*\",\"BBPS_BBPCU\")\n",
    "FYdata$NPCI.Operated.Systems<-str_replace(FYdata$NPCI.Operated.Systems,\n",
    "                                                 \".*Cheque.*\",\"CTS_chq_clrng\")\n",
    "FYdata$NPCI.Operated.Systems<-str_replace(FYdata$NPCI.Operated.Systems,\n",
    "                                                 \".*Automated.*\",\"NACH\")\n",
    "FYdata$NPCI.Operated.Systems<-str_replace(FYdata$NPCI.Operated.Systems,\n",
    "                                                 \".*ATM.*\",\"NFS_ATM_wdrwl\")\n",
    "FYdata$NPCI.Operated.Systems<-str_replace(FYdata$NPCI.Operated.Systems,\n",
    "                                                 \".*deposit.*\",\"NFS_cash_dpst\")\n",
    "FYdata$NPCI.Operated.Systems<-str_replace(FYdata$NPCI.Operated.Systems,\n",
    "                                                 \".*National.*\",\"NFS\")\n",
    "FYdata$NPCI.Operated.Systems<-str_replace(FYdata$NPCI.Operated.Systems,\n",
    "                                                 \".*eCom.*\",\"Rupay_ecom\")\n",
    "FYdata$NPCI.Operated.Systems<-str_replace(FYdata$NPCI.Operated.Systems,\n",
    "                                                 \".*POS.*\",\"Rupay_POS\")\n",
    "FYdata$NPCI.Operated.Systems<-str_replace(FYdata$NPCI.Operated.Systems,\n",
    "                                                 \".*Unified.*\",\"UPI\")\n",
    "FYdata$NPCI.Operated.Systems<-str_replace(FYdata$NPCI.Operated.Systems,\n",
    "                                                 \".*excluding.*\",\"UPI_ex_bhim_USSD\")\n",
    "FYdata$NPCI.Operated.Systems<-str_replace(FYdata$NPCI.Operated.Systems,\n",
    "                                                 \".*IMPS.*\",\"IMPS\")\n",
    "FYdata$NPCI.Operated.Systems<- as.factor(FYdata$NPCI.Operated.Systems)\n",
    "select<-c(\"NFS\",\"NACH\",\"CTS_chq_clrng\",\"IMPS\",\"Rupay_POS\",\"Rupay_ecom\",\n",
    "          \"UPI\",\"AEPS_interbank\",\"APBS_credit\",\"BBPS_BBPCU\")\n",
    "FYdataN<-FYdata[FYdata$NPCI.Operated.Systems %in% select,]\n",
    "view(FYdataN)\n",
    "unique(FYdata$NPCI.Operated.Systems)\n",
    "unique(FYdataN$NPCI.Operated.Systems)"
   ]
  },
  {
   "cell_type": "code",
   "execution_count": 11,
   "id": "2f4771f9",
   "metadata": {
    "execution": {
     "iopub.execute_input": "2022-12-27T09:17:48.265403Z",
     "iopub.status.busy": "2022-12-27T09:17:48.263192Z",
     "iopub.status.idle": "2022-12-27T09:17:48.309566Z",
     "shell.execute_reply": "2022-12-27T09:17:48.307798Z"
    },
    "papermill": {
     "duration": 0.159956,
     "end_time": "2022-12-27T09:17:48.309720",
     "exception": false,
     "start_time": "2022-12-27T09:17:48.149764",
     "status": "completed"
    },
    "tags": [],
    "vscode": {
     "languageId": "r"
    }
   },
   "outputs": [
    {
     "data": {
      "text/html": [
       "<style>\n",
       ".list-inline {list-style: none; margin:0; padding: 0}\n",
       ".list-inline>li {display: inline-block}\n",
       ".list-inline>li:not(:last-child)::after {content: \"\\00b7\"; padding: 0 .5ex}\n",
       "</style>\n",
       "<ol class=list-inline><li>'year'</li><li>'AEPS_interbank'</li><li>'APBS_credit'</li><li>'BBPS_BBPCU'</li><li>'CTS_chq_clrng'</li><li>'IMPS'</li><li>'NACH'</li><li>'NFS'</li><li>'Rupay_ecom'</li><li>'Rupay_POS'</li><li>'UPI'</li></ol>\n"
      ],
      "text/latex": [
       "\\begin{enumerate*}\n",
       "\\item 'year'\n",
       "\\item 'AEPS\\_interbank'\n",
       "\\item 'APBS\\_credit'\n",
       "\\item 'BBPS\\_BBPCU'\n",
       "\\item 'CTS\\_chq\\_clrng'\n",
       "\\item 'IMPS'\n",
       "\\item 'NACH'\n",
       "\\item 'NFS'\n",
       "\\item 'Rupay\\_ecom'\n",
       "\\item 'Rupay\\_POS'\n",
       "\\item 'UPI'\n",
       "\\end{enumerate*}\n"
      ],
      "text/markdown": [
       "1. 'year'\n",
       "2. 'AEPS_interbank'\n",
       "3. 'APBS_credit'\n",
       "4. 'BBPS_BBPCU'\n",
       "5. 'CTS_chq_clrng'\n",
       "6. 'IMPS'\n",
       "7. 'NACH'\n",
       "8. 'NFS'\n",
       "9. 'Rupay_ecom'\n",
       "10. 'Rupay_POS'\n",
       "11. 'UPI'\n",
       "\n",
       "\n"
      ],
      "text/plain": [
       " [1] \"year\"           \"AEPS_interbank\" \"APBS_credit\"    \"BBPS_BBPCU\"    \n",
       " [5] \"CTS_chq_clrng\"  \"IMPS\"           \"NACH\"           \"NFS\"           \n",
       " [9] \"Rupay_ecom\"     \"Rupay_POS\"      \"UPI\"           "
      ]
     },
     "metadata": {},
     "output_type": "display_data"
    }
   ],
   "source": [
    "FYdata1<-FYdataN[,1:3]\n",
    "FYdataS<-pivot_wider(FYdata1,names_from = NPCI.Operated.Systems, values_from = Value_bn,values_fill = 0)\n",
    "FYdataS$year<-str_replace(FYdataS$year,\".*Mar.*\",\"F.Y.2017.18\")\n",
    "colnames(FYdataS)"
   ]
  },
  {
   "cell_type": "code",
   "execution_count": 12,
   "id": "d07bfa3c",
   "metadata": {
    "execution": {
     "iopub.execute_input": "2022-12-27T09:17:48.538775Z",
     "iopub.status.busy": "2022-12-27T09:17:48.536604Z",
     "iopub.status.idle": "2022-12-27T09:17:48.569782Z",
     "shell.execute_reply": "2022-12-27T09:17:48.567192Z"
    },
    "papermill": {
     "duration": 0.146395,
     "end_time": "2022-12-27T09:17:48.569993",
     "exception": false,
     "start_time": "2022-12-27T09:17:48.423598",
     "status": "completed"
    },
    "tags": [],
    "vscode": {
     "languageId": "r"
    }
   },
   "outputs": [
    {
     "data": {
      "text/html": [
       "<style>\n",
       ".list-inline {list-style: none; margin:0; padding: 0}\n",
       ".list-inline>li {display: inline-block}\n",
       ".list-inline>li:not(:last-child)::after {content: \"\\00b7\"; padding: 0 .5ex}\n",
       "</style>\n",
       "<ol class=list-inline><li>'year'</li><li>'AEPS_interbank'</li><li>'APBS_credit'</li><li>'BBPS_BBPCU'</li><li>'CTS_chq_clrng'</li><li>'IMPS'</li><li>'NACH'</li><li>'NFS'</li><li>'Rupay_ecom'</li><li>'Rupay_POS'</li><li>'UPI'</li></ol>\n"
      ],
      "text/latex": [
       "\\begin{enumerate*}\n",
       "\\item 'year'\n",
       "\\item 'AEPS\\_interbank'\n",
       "\\item 'APBS\\_credit'\n",
       "\\item 'BBPS\\_BBPCU'\n",
       "\\item 'CTS\\_chq\\_clrng'\n",
       "\\item 'IMPS'\n",
       "\\item 'NACH'\n",
       "\\item 'NFS'\n",
       "\\item 'Rupay\\_ecom'\n",
       "\\item 'Rupay\\_POS'\n",
       "\\item 'UPI'\n",
       "\\end{enumerate*}\n"
      ],
      "text/markdown": [
       "1. 'year'\n",
       "2. 'AEPS_interbank'\n",
       "3. 'APBS_credit'\n",
       "4. 'BBPS_BBPCU'\n",
       "5. 'CTS_chq_clrng'\n",
       "6. 'IMPS'\n",
       "7. 'NACH'\n",
       "8. 'NFS'\n",
       "9. 'Rupay_ecom'\n",
       "10. 'Rupay_POS'\n",
       "11. 'UPI'\n",
       "\n",
       "\n"
      ],
      "text/plain": [
       " [1] \"year\"           \"AEPS_interbank\" \"APBS_credit\"    \"BBPS_BBPCU\"    \n",
       " [5] \"CTS_chq_clrng\"  \"IMPS\"           \"NACH\"           \"NFS\"           \n",
       " [9] \"Rupay_ecom\"     \"Rupay_POS\"      \"UPI\"           "
      ]
     },
     "metadata": {},
     "output_type": "display_data"
    }
   ],
   "source": [
    "FYdata2<-FYdataN[,c(1:2,4)]\n",
    "FYdataS2<-pivot_wider(FYdata2,names_from = NPCI.Operated.Systems, values_from = Volume_mn,values_fill = 0)\n",
    "FYdataS2$year<-str_replace(FYdataS2$year,\".*Mar.*\",\"F.Y.2017.18\")\n",
    "colnames(FYdataS2)"
   ]
  },
  {
   "cell_type": "code",
   "execution_count": 13,
   "id": "702424aa",
   "metadata": {
    "execution": {
     "iopub.execute_input": "2022-12-27T09:17:48.818884Z",
     "iopub.status.busy": "2022-12-27T09:17:48.816638Z",
     "iopub.status.idle": "2022-12-27T09:17:50.690405Z",
     "shell.execute_reply": "2022-12-27T09:17:50.686694Z"
    },
    "papermill": {
     "duration": 2.003471,
     "end_time": "2022-12-27T09:17:50.690760",
     "exception": false,
     "start_time": "2022-12-27T09:17:48.687289",
     "status": "completed"
    },
    "tags": [],
    "vscode": {
     "languageId": "r"
    }
   },
   "outputs": [
    {
     "name": "stderr",
     "output_type": "stream",
     "text": [
      "\n",
      "Attaching package: ‘plotly’\n",
      "\n",
      "\n",
      "The following object is masked from ‘package:ggplot2’:\n",
      "\n",
      "    last_plot\n",
      "\n",
      "\n",
      "The following object is masked from ‘package:stats’:\n",
      "\n",
      "    filter\n",
      "\n",
      "\n",
      "The following object is masked from ‘package:graphics’:\n",
      "\n",
      "    layout\n",
      "\n",
      "\n",
      "The following object is masked from ‘package:httr’:\n",
      "\n",
      "    config\n",
      "\n",
      "\n"
     ]
    },
    {
     "data": {
      "text/html": [
       "<iframe src=\"fig1.html\" width=100% height=450></iframe>"
      ]
     },
     "metadata": {},
     "output_type": "display_data"
    }
   ],
   "source": [
    "library(plotly)\n",
    "library(htmlwidgets)\n",
    "library('IRdisplay')\n",
    "#NFS\",\"NACH\",\"CTS_chq_clrng\",\"IMPS\",\"Rupay_POS\",\n",
    "#\"Rupay_ecom\",\"UPI\",\"AEPS_interbank\",\"APBS_credit\",\"BBPS_BBPCU\"\n",
    "\n",
    "fig1 <- plot_ly(FYdataS, x = ~year, y = ~NFS, type = 'bar', name = 'NFS')\n",
    "fig1 <- fig1 %>% add_trace(y = ~NACH, name = 'NACH')\n",
    "fig1 <- fig1 %>% add_trace(y = ~IMPS, name = 'IMPS')\n",
    "fig1 <- fig1 %>% add_trace(y = ~CTS_chq_clrng, name = 'Cheque clrng')\n",
    "fig1 <- fig1 %>% add_trace(y = ~Rupay_POS, name = 'Rupay POS')\n",
    "fig1 <- fig1 %>% add_trace(y = ~Rupay_ecom, name = 'Rupay ecom')\n",
    "fig1 <- fig1 %>% add_trace(y = ~UPI, name = 'UPI')\n",
    "fig1 <- fig1 %>% add_trace(y = ~AEPS_interbank, name = 'AEPS interbank')\n",
    "fig1 <- fig1 %>% add_trace(y = ~APBS_credit, name = 'APBS credit')\n",
    "fig1 <- fig1 %>% add_trace(y = ~BBPS_BBPCU, name = 'BBPS BBPCU')\n",
    "fig1 <- fig1 %>% layout(yaxis = list(title = 'Value in bn Rs'), barmode = 'stack')\n",
    "saveWidget(fig1, \"fig1.html\")\n",
    "display_html('<iframe src=\"fig1.html\" width=100% height=450></iframe>')"
   ]
  },
  {
   "cell_type": "code",
   "execution_count": 14,
   "id": "94ab22be",
   "metadata": {
    "execution": {
     "iopub.execute_input": "2022-12-27T09:17:50.962424Z",
     "iopub.status.busy": "2022-12-27T09:17:50.960739Z",
     "iopub.status.idle": "2022-12-27T09:17:51.639053Z",
     "shell.execute_reply": "2022-12-27T09:17:51.637758Z"
    },
    "papermill": {
     "duration": 0.801654,
     "end_time": "2022-12-27T09:17:51.639204",
     "exception": false,
     "start_time": "2022-12-27T09:17:50.837550",
     "status": "completed"
    },
    "tags": [],
    "vscode": {
     "languageId": "r"
    }
   },
   "outputs": [
    {
     "data": {
      "text/html": [
       "<iframe src=\"fig2.html\" width=100% height=450></iframe>"
      ]
     },
     "metadata": {},
     "output_type": "display_data"
    }
   ],
   "source": [
    "fig2 <- plot_ly(FYdataS2, x = ~year, y = ~NFS, type = 'bar', name = 'NFS')\n",
    "fig2 <- fig2 %>% add_trace(y = ~NACH, name = 'NACH')\n",
    "fig2 <- fig2 %>% add_trace(y = ~IMPS, name = 'IMPS')\n",
    "fig2 <- fig2 %>% add_trace(y = ~CTS_chq_clrng, name = 'Cheque clrng')\n",
    "fig2 <- fig2 %>% add_trace(y = ~Rupay_POS, name = 'Rupay POS')\n",
    "fig2 <- fig2 %>% add_trace(y = ~Rupay_ecom, name = 'Rupay ecom')\n",
    "fig2 <- fig2 %>% add_trace(y = ~UPI, name = 'UPI')\n",
    "fig2 <- fig2 %>% add_trace(y = ~AEPS_interbank, name = 'AEPS interbank')\n",
    "fig2 <- fig2 %>% add_trace(y = ~APBS_credit, name = 'APBS credit')\n",
    "fig2 <- fig2 %>% add_trace(y = ~BBPS_BBPCU, name = 'BBPS BBPCU')\n",
    "fig2 <- fig2 %>% layout(yaxis = list(title = 'Volume in mn transactions'), barmode = 'stack')\n",
    "saveWidget(fig2, \"fig2.html\")\n",
    "display_html('<iframe src=\"fig2.html\" width=100% height=450></iframe>')"
   ]
  }
 ],
 "metadata": {
  "kernelspec": {
   "display_name": "R",
   "language": "R",
   "name": "ir"
  },
  "language_info": {
   "codemirror_mode": "r",
   "file_extension": ".r",
   "mimetype": "text/x-r-source",
   "name": "R",
   "pygments_lexer": "r",
   "version": "4.0.5"
  },
  "papermill": {
   "default_parameters": {},
   "duration": 13.564861,
   "end_time": "2022-12-27T09:17:51.874161",
   "environment_variables": {},
   "exception": null,
   "input_path": "__notebook__.ipynb",
   "output_path": "__notebook__.ipynb",
   "parameters": {},
   "start_time": "2022-12-27T09:17:38.309300",
   "version": "2.3.3"
  }
 },
 "nbformat": 4,
 "nbformat_minor": 5
}
